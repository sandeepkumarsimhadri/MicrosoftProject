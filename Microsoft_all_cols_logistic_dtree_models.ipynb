{
 "cells": [
  {
   "cell_type": "code",
   "execution_count": 1,
   "id": "cac21808",
   "metadata": {},
   "outputs": [],
   "source": [
    "import pandas as pd\n",
    "from sklearn.model_selection import train_test_split\n",
    "import warnings\n",
    "warnings.filterwarnings('ignore')\n",
    "from sklearn.preprocessing import StandardScaler\n",
    "from sklearn.linear_model import LogisticRegression\n",
    "from sklearn.tree import DecisionTreeClassifier\n",
    "from sklearn.metrics import confusion_matrix,precision_score,recall_score,f1_score,roc_curve,roc_auc_score\n",
    "import matplotlib.pyplot as plt\n",
    "import numpy as np\n",
    "from sklearn.ensemble import RandomForestClassifier\n",
    "from sklearn.ensemble import AdaBoostClassifier\n",
    "from sklearn.model_selection import GridSearchCV\n",
    "from sklearn.model_selection import RandomizedSearchCV\n",
    "from sklearn.ensemble import GradientBoostingClassifier\n",
    "from sklearn.svm import SVC"
   ]
  },
  {
   "cell_type": "code",
   "execution_count": 2,
   "id": "21255e4e",
   "metadata": {},
   "outputs": [],
   "source": [
    "ms_df=pd.read_csv('Microsoft_Data.csv')\n",
    "y=ms_df['HasDetections']\n",
    "\n",
    "ms_df.drop(columns=['HasDetections','MachineIdentifier'],inplace=True)\n",
    "\n",
    "mainfo_df=pd.DataFrame({'col_name':ms_df.columns,'na_cnt':ms_df.isnull().sum(),'pc_cnt':(ms_df.isnull().sum()/ms_df.shape[0])*100})\n",
    "\n",
    "\n",
    "col_gt50_ls=list(mainfo_df[mainfo_df['pc_cnt']>50]['col_name'])\n",
    "\n",
    "ms_df.drop(columns=col_gt50_ls,inplace=True)\n",
    "\n",
    "x_train,x_test,y_train,y_test=train_test_split(ms_df,y,random_state=99,test_size=0.2)\n",
    "\n",
    "con_cols=[col for col in ms_df.columns if ms_df[col].dtype=='int64' or ms_df[col].dtype=='float64']\n",
    "cat_cols=[col for col in ms_df.columns if ms_df[col].dtype=='object']"
   ]
  },
  {
   "cell_type": "code",
   "execution_count": 3,
   "id": "dca47a80",
   "metadata": {},
   "outputs": [],
   "source": [
    "for col in con_cols:\n",
    "    x_train[col].fillna(x_train[col].mean(),inplace=True)\n",
    "    x_test[col].fillna(x_train[col].mean(),inplace=True)\n",
    "    \n",
    "for col in cat_cols:\n",
    "    x_train[col].fillna(x_train[col].mode()[0],inplace=True)\n",
    "    x_test[col].fillna(x_train[col].mode()[0],inplace=True)"
   ]
  },
  {
   "cell_type": "code",
   "execution_count": 4,
   "id": "41da8bf9",
   "metadata": {},
   "outputs": [],
   "source": [
    "scaler=StandardScaler()\n",
    "\n",
    "for col in con_cols:\n",
    "    x_train[col]=scaler.fit_transform(np.array(x_train[col]).reshape(-1,1))\n",
    "    x_test[col]=scaler.transform(np.array(x_test[col]).reshape(-1,1))"
   ]
  },
  {
   "cell_type": "code",
   "execution_count": 6,
   "id": "ae80ef4d",
   "metadata": {},
   "outputs": [],
   "source": [
    "cat_encd_train=pd.get_dummies(x_train[cat_cols])\n",
    "cat_encd_test=pd.get_dummies(x_test[cat_cols])"
   ]
  },
  {
   "cell_type": "code",
   "execution_count": 7,
   "id": "d8a50ae7",
   "metadata": {},
   "outputs": [
    {
     "data": {
      "text/html": [
       "<div>\n",
       "<style scoped>\n",
       "    .dataframe tbody tr th:only-of-type {\n",
       "        vertical-align: middle;\n",
       "    }\n",
       "\n",
       "    .dataframe tbody tr th {\n",
       "        vertical-align: top;\n",
       "    }\n",
       "\n",
       "    .dataframe thead th {\n",
       "        text-align: right;\n",
       "    }\n",
       "</style>\n",
       "<table border=\"1\" class=\"dataframe\">\n",
       "  <thead>\n",
       "    <tr style=\"text-align: right;\">\n",
       "      <th></th>\n",
       "      <th>ProductName_mse</th>\n",
       "      <th>ProductName_win8defender</th>\n",
       "      <th>EngineVersion_1.1.12902.0</th>\n",
       "      <th>EngineVersion_1.1.13000.0</th>\n",
       "      <th>EngineVersion_1.1.13103.0</th>\n",
       "      <th>EngineVersion_1.1.13202.0</th>\n",
       "      <th>EngineVersion_1.1.13303.0</th>\n",
       "      <th>EngineVersion_1.1.13407.0</th>\n",
       "      <th>EngineVersion_1.1.13504.0</th>\n",
       "      <th>EngineVersion_1.1.13601.0</th>\n",
       "      <th>...</th>\n",
       "      <th>Census_ActivationChannel_Retail:TB:Eval</th>\n",
       "      <th>Census_ActivationChannel_Volume:GVLK</th>\n",
       "      <th>Census_ActivationChannel_Volume:MAK</th>\n",
       "      <th>Census_FlightRing_Disabled</th>\n",
       "      <th>Census_FlightRing_NOT_SET</th>\n",
       "      <th>Census_FlightRing_RP</th>\n",
       "      <th>Census_FlightRing_Retail</th>\n",
       "      <th>Census_FlightRing_Unknown</th>\n",
       "      <th>Census_FlightRing_WIF</th>\n",
       "      <th>Census_FlightRing_WIS</th>\n",
       "    </tr>\n",
       "  </thead>\n",
       "  <tbody>\n",
       "    <tr>\n",
       "      <th>237</th>\n",
       "      <td>0</td>\n",
       "      <td>1</td>\n",
       "      <td>0</td>\n",
       "      <td>0</td>\n",
       "      <td>0</td>\n",
       "      <td>0</td>\n",
       "      <td>0</td>\n",
       "      <td>0</td>\n",
       "      <td>0</td>\n",
       "      <td>0</td>\n",
       "      <td>...</td>\n",
       "      <td>0</td>\n",
       "      <td>0</td>\n",
       "      <td>0</td>\n",
       "      <td>0</td>\n",
       "      <td>0</td>\n",
       "      <td>0</td>\n",
       "      <td>1</td>\n",
       "      <td>0</td>\n",
       "      <td>0</td>\n",
       "      <td>0</td>\n",
       "    </tr>\n",
       "    <tr>\n",
       "      <th>38093</th>\n",
       "      <td>0</td>\n",
       "      <td>1</td>\n",
       "      <td>0</td>\n",
       "      <td>0</td>\n",
       "      <td>0</td>\n",
       "      <td>0</td>\n",
       "      <td>0</td>\n",
       "      <td>0</td>\n",
       "      <td>0</td>\n",
       "      <td>0</td>\n",
       "      <td>...</td>\n",
       "      <td>0</td>\n",
       "      <td>0</td>\n",
       "      <td>0</td>\n",
       "      <td>0</td>\n",
       "      <td>0</td>\n",
       "      <td>0</td>\n",
       "      <td>1</td>\n",
       "      <td>0</td>\n",
       "      <td>0</td>\n",
       "      <td>0</td>\n",
       "    </tr>\n",
       "    <tr>\n",
       "      <th>22505</th>\n",
       "      <td>0</td>\n",
       "      <td>1</td>\n",
       "      <td>0</td>\n",
       "      <td>0</td>\n",
       "      <td>0</td>\n",
       "      <td>0</td>\n",
       "      <td>0</td>\n",
       "      <td>0</td>\n",
       "      <td>0</td>\n",
       "      <td>0</td>\n",
       "      <td>...</td>\n",
       "      <td>0</td>\n",
       "      <td>0</td>\n",
       "      <td>0</td>\n",
       "      <td>0</td>\n",
       "      <td>0</td>\n",
       "      <td>0</td>\n",
       "      <td>1</td>\n",
       "      <td>0</td>\n",
       "      <td>0</td>\n",
       "      <td>0</td>\n",
       "    </tr>\n",
       "    <tr>\n",
       "      <th>48014</th>\n",
       "      <td>0</td>\n",
       "      <td>1</td>\n",
       "      <td>0</td>\n",
       "      <td>0</td>\n",
       "      <td>0</td>\n",
       "      <td>0</td>\n",
       "      <td>0</td>\n",
       "      <td>0</td>\n",
       "      <td>0</td>\n",
       "      <td>0</td>\n",
       "      <td>...</td>\n",
       "      <td>0</td>\n",
       "      <td>0</td>\n",
       "      <td>0</td>\n",
       "      <td>0</td>\n",
       "      <td>0</td>\n",
       "      <td>0</td>\n",
       "      <td>1</td>\n",
       "      <td>0</td>\n",
       "      <td>0</td>\n",
       "      <td>0</td>\n",
       "    </tr>\n",
       "    <tr>\n",
       "      <th>39996</th>\n",
       "      <td>0</td>\n",
       "      <td>1</td>\n",
       "      <td>0</td>\n",
       "      <td>0</td>\n",
       "      <td>0</td>\n",
       "      <td>0</td>\n",
       "      <td>0</td>\n",
       "      <td>0</td>\n",
       "      <td>0</td>\n",
       "      <td>0</td>\n",
       "      <td>...</td>\n",
       "      <td>0</td>\n",
       "      <td>0</td>\n",
       "      <td>0</td>\n",
       "      <td>0</td>\n",
       "      <td>0</td>\n",
       "      <td>0</td>\n",
       "      <td>1</td>\n",
       "      <td>0</td>\n",
       "      <td>0</td>\n",
       "      <td>0</td>\n",
       "    </tr>\n",
       "    <tr>\n",
       "      <th>...</th>\n",
       "      <td>...</td>\n",
       "      <td>...</td>\n",
       "      <td>...</td>\n",
       "      <td>...</td>\n",
       "      <td>...</td>\n",
       "      <td>...</td>\n",
       "      <td>...</td>\n",
       "      <td>...</td>\n",
       "      <td>...</td>\n",
       "      <td>...</td>\n",
       "      <td>...</td>\n",
       "      <td>...</td>\n",
       "      <td>...</td>\n",
       "      <td>...</td>\n",
       "      <td>...</td>\n",
       "      <td>...</td>\n",
       "      <td>...</td>\n",
       "      <td>...</td>\n",
       "      <td>...</td>\n",
       "      <td>...</td>\n",
       "      <td>...</td>\n",
       "    </tr>\n",
       "    <tr>\n",
       "      <th>46283</th>\n",
       "      <td>0</td>\n",
       "      <td>1</td>\n",
       "      <td>0</td>\n",
       "      <td>0</td>\n",
       "      <td>0</td>\n",
       "      <td>0</td>\n",
       "      <td>0</td>\n",
       "      <td>0</td>\n",
       "      <td>0</td>\n",
       "      <td>0</td>\n",
       "      <td>...</td>\n",
       "      <td>0</td>\n",
       "      <td>0</td>\n",
       "      <td>0</td>\n",
       "      <td>0</td>\n",
       "      <td>0</td>\n",
       "      <td>0</td>\n",
       "      <td>1</td>\n",
       "      <td>0</td>\n",
       "      <td>0</td>\n",
       "      <td>0</td>\n",
       "    </tr>\n",
       "    <tr>\n",
       "      <th>26397</th>\n",
       "      <td>0</td>\n",
       "      <td>1</td>\n",
       "      <td>0</td>\n",
       "      <td>0</td>\n",
       "      <td>0</td>\n",
       "      <td>0</td>\n",
       "      <td>0</td>\n",
       "      <td>0</td>\n",
       "      <td>0</td>\n",
       "      <td>0</td>\n",
       "      <td>...</td>\n",
       "      <td>0</td>\n",
       "      <td>0</td>\n",
       "      <td>0</td>\n",
       "      <td>0</td>\n",
       "      <td>0</td>\n",
       "      <td>0</td>\n",
       "      <td>1</td>\n",
       "      <td>0</td>\n",
       "      <td>0</td>\n",
       "      <td>0</td>\n",
       "    </tr>\n",
       "    <tr>\n",
       "      <th>27816</th>\n",
       "      <td>0</td>\n",
       "      <td>1</td>\n",
       "      <td>0</td>\n",
       "      <td>0</td>\n",
       "      <td>0</td>\n",
       "      <td>0</td>\n",
       "      <td>0</td>\n",
       "      <td>0</td>\n",
       "      <td>0</td>\n",
       "      <td>0</td>\n",
       "      <td>...</td>\n",
       "      <td>0</td>\n",
       "      <td>0</td>\n",
       "      <td>0</td>\n",
       "      <td>0</td>\n",
       "      <td>0</td>\n",
       "      <td>0</td>\n",
       "      <td>1</td>\n",
       "      <td>0</td>\n",
       "      <td>0</td>\n",
       "      <td>0</td>\n",
       "    </tr>\n",
       "    <tr>\n",
       "      <th>41934</th>\n",
       "      <td>0</td>\n",
       "      <td>1</td>\n",
       "      <td>0</td>\n",
       "      <td>0</td>\n",
       "      <td>0</td>\n",
       "      <td>0</td>\n",
       "      <td>1</td>\n",
       "      <td>0</td>\n",
       "      <td>0</td>\n",
       "      <td>0</td>\n",
       "      <td>...</td>\n",
       "      <td>0</td>\n",
       "      <td>0</td>\n",
       "      <td>0</td>\n",
       "      <td>0</td>\n",
       "      <td>0</td>\n",
       "      <td>0</td>\n",
       "      <td>1</td>\n",
       "      <td>0</td>\n",
       "      <td>0</td>\n",
       "      <td>0</td>\n",
       "    </tr>\n",
       "    <tr>\n",
       "      <th>21784</th>\n",
       "      <td>0</td>\n",
       "      <td>1</td>\n",
       "      <td>0</td>\n",
       "      <td>0</td>\n",
       "      <td>0</td>\n",
       "      <td>0</td>\n",
       "      <td>0</td>\n",
       "      <td>0</td>\n",
       "      <td>0</td>\n",
       "      <td>0</td>\n",
       "      <td>...</td>\n",
       "      <td>0</td>\n",
       "      <td>0</td>\n",
       "      <td>0</td>\n",
       "      <td>0</td>\n",
       "      <td>0</td>\n",
       "      <td>0</td>\n",
       "      <td>1</td>\n",
       "      <td>0</td>\n",
       "      <td>0</td>\n",
       "      <td>0</td>\n",
       "    </tr>\n",
       "  </tbody>\n",
       "</table>\n",
       "<p>11352 rows × 2065 columns</p>\n",
       "</div>"
      ],
      "text/plain": [
       "       ProductName_mse  ProductName_win8defender  EngineVersion_1.1.12902.0  \\\n",
       "237                  0                         1                          0   \n",
       "38093                0                         1                          0   \n",
       "22505                0                         1                          0   \n",
       "48014                0                         1                          0   \n",
       "39996                0                         1                          0   \n",
       "...                ...                       ...                        ...   \n",
       "46283                0                         1                          0   \n",
       "26397                0                         1                          0   \n",
       "27816                0                         1                          0   \n",
       "41934                0                         1                          0   \n",
       "21784                0                         1                          0   \n",
       "\n",
       "       EngineVersion_1.1.13000.0  EngineVersion_1.1.13103.0  \\\n",
       "237                            0                          0   \n",
       "38093                          0                          0   \n",
       "22505                          0                          0   \n",
       "48014                          0                          0   \n",
       "39996                          0                          0   \n",
       "...                          ...                        ...   \n",
       "46283                          0                          0   \n",
       "26397                          0                          0   \n",
       "27816                          0                          0   \n",
       "41934                          0                          0   \n",
       "21784                          0                          0   \n",
       "\n",
       "       EngineVersion_1.1.13202.0  EngineVersion_1.1.13303.0  \\\n",
       "237                            0                          0   \n",
       "38093                          0                          0   \n",
       "22505                          0                          0   \n",
       "48014                          0                          0   \n",
       "39996                          0                          0   \n",
       "...                          ...                        ...   \n",
       "46283                          0                          0   \n",
       "26397                          0                          0   \n",
       "27816                          0                          0   \n",
       "41934                          0                          1   \n",
       "21784                          0                          0   \n",
       "\n",
       "       EngineVersion_1.1.13407.0  EngineVersion_1.1.13504.0  \\\n",
       "237                            0                          0   \n",
       "38093                          0                          0   \n",
       "22505                          0                          0   \n",
       "48014                          0                          0   \n",
       "39996                          0                          0   \n",
       "...                          ...                        ...   \n",
       "46283                          0                          0   \n",
       "26397                          0                          0   \n",
       "27816                          0                          0   \n",
       "41934                          0                          0   \n",
       "21784                          0                          0   \n",
       "\n",
       "       EngineVersion_1.1.13601.0  ...  \\\n",
       "237                            0  ...   \n",
       "38093                          0  ...   \n",
       "22505                          0  ...   \n",
       "48014                          0  ...   \n",
       "39996                          0  ...   \n",
       "...                          ...  ...   \n",
       "46283                          0  ...   \n",
       "26397                          0  ...   \n",
       "27816                          0  ...   \n",
       "41934                          0  ...   \n",
       "21784                          0  ...   \n",
       "\n",
       "       Census_ActivationChannel_Retail:TB:Eval  \\\n",
       "237                                          0   \n",
       "38093                                        0   \n",
       "22505                                        0   \n",
       "48014                                        0   \n",
       "39996                                        0   \n",
       "...                                        ...   \n",
       "46283                                        0   \n",
       "26397                                        0   \n",
       "27816                                        0   \n",
       "41934                                        0   \n",
       "21784                                        0   \n",
       "\n",
       "       Census_ActivationChannel_Volume:GVLK  \\\n",
       "237                                       0   \n",
       "38093                                     0   \n",
       "22505                                     0   \n",
       "48014                                     0   \n",
       "39996                                     0   \n",
       "...                                     ...   \n",
       "46283                                     0   \n",
       "26397                                     0   \n",
       "27816                                     0   \n",
       "41934                                     0   \n",
       "21784                                     0   \n",
       "\n",
       "       Census_ActivationChannel_Volume:MAK  Census_FlightRing_Disabled  \\\n",
       "237                                      0                           0   \n",
       "38093                                    0                           0   \n",
       "22505                                    0                           0   \n",
       "48014                                    0                           0   \n",
       "39996                                    0                           0   \n",
       "...                                    ...                         ...   \n",
       "46283                                    0                           0   \n",
       "26397                                    0                           0   \n",
       "27816                                    0                           0   \n",
       "41934                                    0                           0   \n",
       "21784                                    0                           0   \n",
       "\n",
       "       Census_FlightRing_NOT_SET  Census_FlightRing_RP  \\\n",
       "237                            0                     0   \n",
       "38093                          0                     0   \n",
       "22505                          0                     0   \n",
       "48014                          0                     0   \n",
       "39996                          0                     0   \n",
       "...                          ...                   ...   \n",
       "46283                          0                     0   \n",
       "26397                          0                     0   \n",
       "27816                          0                     0   \n",
       "41934                          0                     0   \n",
       "21784                          0                     0   \n",
       "\n",
       "       Census_FlightRing_Retail  Census_FlightRing_Unknown  \\\n",
       "237                           1                          0   \n",
       "38093                         1                          0   \n",
       "22505                         1                          0   \n",
       "48014                         1                          0   \n",
       "39996                         1                          0   \n",
       "...                         ...                        ...   \n",
       "46283                         1                          0   \n",
       "26397                         1                          0   \n",
       "27816                         1                          0   \n",
       "41934                         1                          0   \n",
       "21784                         1                          0   \n",
       "\n",
       "       Census_FlightRing_WIF  Census_FlightRing_WIS  \n",
       "237                        0                      0  \n",
       "38093                      0                      0  \n",
       "22505                      0                      0  \n",
       "48014                      0                      0  \n",
       "39996                      0                      0  \n",
       "...                      ...                    ...  \n",
       "46283                      0                      0  \n",
       "26397                      0                      0  \n",
       "27816                      0                      0  \n",
       "41934                      0                      0  \n",
       "21784                      0                      0  \n",
       "\n",
       "[11352 rows x 2065 columns]"
      ]
     },
     "execution_count": 7,
     "metadata": {},
     "output_type": "execute_result"
    }
   ],
   "source": [
    "cat_encd_train_final,cat_encd_test_final=cat_encd_train.align(cat_encd_test,join='inner',axis=1)\n",
    "cat_encd_test_final###aligning train & test data one hot encoded catg columns due to unqual no of columns i.e no of cilumns would differ for that we align to get same"
   ]
  },
  {
   "cell_type": "code",
   "execution_count": 8,
   "id": "e418412a",
   "metadata": {},
   "outputs": [],
   "source": [
    "x_train_final=pd.concat([x_train[con_cols],cat_encd_train_final],axis=1)\n"
   ]
  },
  {
   "cell_type": "code",
   "execution_count": 9,
   "id": "20565a4b",
   "metadata": {},
   "outputs": [],
   "source": [
    "x_test_final=pd.concat([x_test[con_cols],cat_encd_test_final],axis=1)"
   ]
  },
  {
   "cell_type": "code",
   "execution_count": 10,
   "id": "c9f08264",
   "metadata": {},
   "outputs": [
    {
     "data": {
      "text/plain": [
       "LogisticRegression()"
      ]
     },
     "execution_count": 10,
     "metadata": {},
     "output_type": "execute_result"
    }
   ],
   "source": [
    "logreg=LogisticRegression()\n",
    "logreg.fit(x_train_final,y_train)"
   ]
  },
  {
   "cell_type": "code",
   "execution_count": 10,
   "id": "de8796dd",
   "metadata": {},
   "outputs": [],
   "source": [
    "y_test_pred=logreg.predict(x_test_final)"
   ]
  },
  {
   "cell_type": "code",
   "execution_count": 11,
   "id": "45f4dd5d",
   "metadata": {},
   "outputs": [
    {
     "data": {
      "text/plain": [
       "array([[3605, 2064],\n",
       "       [2162, 3521]], dtype=int64)"
      ]
     },
     "execution_count": 11,
     "metadata": {},
     "output_type": "execute_result"
    }
   ],
   "source": [
    "confusion_matrix(y_test,y_test_pred)\n",
    "#precision_score(y_test,y_test_pred)"
   ]
  },
  {
   "cell_type": "code",
   "execution_count": 12,
   "id": "1ad946cc",
   "metadata": {},
   "outputs": [
    {
     "data": {
      "text/plain": [
       "0.6195671300369523"
      ]
     },
     "execution_count": 12,
     "metadata": {},
     "output_type": "execute_result"
    }
   ],
   "source": [
    "recall_score(y_test,y_test_pred)"
   ]
  },
  {
   "cell_type": "code",
   "execution_count": 13,
   "id": "73aad507",
   "metadata": {},
   "outputs": [
    {
     "data": {
      "text/plain": [
       "0.6249556265530707"
      ]
     },
     "execution_count": 13,
     "metadata": {},
     "output_type": "execute_result"
    }
   ],
   "source": [
    "f1_score(y_test,y_test_pred)"
   ]
  },
  {
   "cell_type": "code",
   "execution_count": 14,
   "id": "03406456",
   "metadata": {},
   "outputs": [
    {
     "data": {
      "text/plain": [
       "Text(0.5, 1.0, 'AUC Curve')"
      ]
     },
     "execution_count": 14,
     "metadata": {},
     "output_type": "execute_result"
    },
    {
     "data": {
      "image/png": "[encoded data removed]",
      "text/plain": [
       "<Figure size 432x288 with 1 Axes>"
      ]
     },
     "metadata": {
      "needs_background": "light"
     },
     "output_type": "display_data"
    }
   ],
   "source": [
    "pos_probs=logreg.predict_proba(x_test_final)[::,1]\n",
    "fpr,tpr,thresold=roc_curve(y_test,pos_probs)\n",
    "plt.plot(fpr,tpr)\n",
    "plt.xlabel('False Postive Rate')\n",
    "plt.ylabel('True Postive Rate')\n",
    "plt.title('AUC Curve')\n"
   ]
  },
  {
   "cell_type": "code",
   "execution_count": 15,
   "id": "0225f739",
   "metadata": {},
   "outputs": [
    {
     "data": {
      "text/plain": [
       "0.6840699921503997"
      ]
     },
     "execution_count": 15,
     "metadata": {},
     "output_type": "execute_result"
    }
   ],
   "source": [
    "roc_auc_score(y_test,pos_probs)"
   ]
  },
  {
   "cell_type": "code",
   "execution_count": 16,
   "id": "079e1245",
   "metadata": {},
   "outputs": [
    {
     "data": {
      "text/plain": [
       "DecisionTreeClassifier()"
      ]
     },
     "execution_count": 16,
     "metadata": {},
     "output_type": "execute_result"
    }
   ],
   "source": [
    "dtree=DecisionTreeClassifier()## Max_depth,min_samples_split,..e.tc all these are Hyperparameters\n",
    "#can be found using Hyperparamter tuning \n",
    "dtree.fit(x_train_final,y_train)"
   ]
  },
  {
   "cell_type": "code",
   "execution_count": 17,
   "id": "6a1c3105",
   "metadata": {},
   "outputs": [],
   "source": [
    "dtree_test_pred=dtree.predict(x_test_final)"
   ]
  },
  {
   "cell_type": "code",
   "execution_count": 18,
   "id": "a9d252f9",
   "metadata": {},
   "outputs": [
    {
     "data": {
      "text/plain": [
       "array([[3163, 2506],\n",
       "       [2422, 3261]], dtype=int64)"
      ]
     },
     "execution_count": 18,
     "metadata": {},
     "output_type": "execute_result"
    }
   ],
   "source": [
    "confusion_matrix(y_test,dtree_test_pred)"
   ]
  },
  {
   "cell_type": "code",
   "execution_count": 19,
   "id": "4f27552c",
   "metadata": {},
   "outputs": [
    {
     "data": {
      "text/plain": [
       "0.5654586440090168"
      ]
     },
     "execution_count": 19,
     "metadata": {},
     "output_type": "execute_result"
    }
   ],
   "source": [
    "precision_score(y_test,dtree_test_pred)"
   ]
  },
  {
   "cell_type": "code",
   "execution_count": 20,
   "id": "def152af",
   "metadata": {},
   "outputs": [
    {
     "data": {
      "text/plain": [
       "0.5738166461376034"
      ]
     },
     "execution_count": 20,
     "metadata": {},
     "output_type": "execute_result"
    }
   ],
   "source": [
    "recall_score(y_test,dtree_test_pred)"
   ]
  },
  {
   "cell_type": "code",
   "execution_count": 21,
   "id": "545abe1e",
   "metadata": {},
   "outputs": [
    {
     "data": {
      "text/plain": [
       "0.5696069868995634"
      ]
     },
     "execution_count": 21,
     "metadata": {},
     "output_type": "execute_result"
    }
   ],
   "source": [
    "f1_score(y_test,dtree_test_pred)"
   ]
  },
  {
   "cell_type": "code",
   "execution_count": 22,
   "id": "2ca8f8ef",
   "metadata": {},
   "outputs": [
    {
     "data": {
      "text/plain": [
       "array([1., 1., 1., ..., 1., 0., 0.])"
      ]
     },
     "execution_count": 22,
     "metadata": {},
     "output_type": "execute_result"
    }
   ],
   "source": [
    "dtree_pos_probs=dtree.predict_proba(x_test_final)[::,1]\n",
    "dtree_pos_probs"
   ]
  },
  {
   "cell_type": "code",
   "execution_count": 23,
   "id": "9386547e",
   "metadata": {},
   "outputs": [
    {
     "data": {
      "text/plain": [
       "array([0.        , 0.44205327, 1.        ])"
      ]
     },
     "execution_count": 23,
     "metadata": {},
     "output_type": "execute_result"
    }
   ],
   "source": [
    "dtree_fpr,dtree_tpr,dtree_thresold=roc_curve(y_test,dtree_pos_probs)\n",
    "dtree_fpr"
   ]
  },
  {
   "cell_type": "code",
   "execution_count": 24,
   "id": "9bf39cd8",
   "metadata": {},
   "outputs": [
    {
     "data": {
      "text/plain": [
       "[<matplotlib.lines.Line2D at 0x7e80415940>]"
      ]
     },
     "execution_count": 24,
     "metadata": {},
     "output_type": "execute_result"
    },
    {
     "data": {
      "image/png": "[encoded data removed]",
      "text/plain": [
       "<Figure size 432x288 with 1 Axes>"
      ]
     },
     "metadata": {
      "needs_background": "light"
     },
     "output_type": "display_data"
    }
   ],
   "source": [
    "plt.plot(dtree_fpr,dtree_tpr)"
   ]
  },
  {
   "cell_type": "code",
   "execution_count": 25,
   "id": "b7d5565a",
   "metadata": {},
   "outputs": [
    {
     "data": {
      "text/plain": [
       "0.5658816869777803"
      ]
     },
     "execution_count": 25,
     "metadata": {},
     "output_type": "execute_result"
    }
   ],
   "source": [
    "roc_auc_score(y_test,dtree_pos_probs)"
   ]
  },
  {
   "cell_type": "code",
   "execution_count": 26,
   "id": "6b062a24",
   "metadata": {},
   "outputs": [],
   "source": [
    "rdfc=RandomForestClassifier(n_estimators=50,max_depth=10)\n",
    "rdfc.fit(x_train_final,y_train)\n",
    "rdfc_test_pred=rdfc.predict(x_test_final)"
   ]
  },
  {
   "cell_type": "code",
   "execution_count": 27,
   "id": "a311bbf9",
   "metadata": {},
   "outputs": [
    {
     "data": {
      "text/plain": [
       "0.6404447064768802"
      ]
     },
     "execution_count": 27,
     "metadata": {},
     "output_type": "execute_result"
    }
   ],
   "source": [
    "f1_score(y_test,rdfc_test_pred)"
   ]
  },
  {
   "cell_type": "code",
   "execution_count": 28,
   "id": "8768aa93",
   "metadata": {},
   "outputs": [],
   "source": [
    "adbc=AdaBoostClassifier(n_estimators=50,learning_rate=1.5)\n",
    "adbc.fit(x_train_final,y_train)\n",
    "adbc_test_pred=adbc.predict(x_test_final)"
   ]
  },
  {
   "cell_type": "code",
   "execution_count": 29,
   "id": "e1a9cc15",
   "metadata": {},
   "outputs": [
    {
     "data": {
      "text/plain": [
       "0.6330219156552868"
      ]
     },
     "execution_count": 29,
     "metadata": {},
     "output_type": "execute_result"
    }
   ],
   "source": [
    "f1_score(y_test,adbc_test_pred)"
   ]
  },
  {
   "cell_type": "code",
   "execution_count": 30,
   "id": "5a96c1d5",
   "metadata": {},
   "outputs": [],
   "source": [
    "# GridSearch CV technique\n",
    "dt=DecisionTreeClassifier()\n",
    "\n",
    "dt_dict ={ \n",
    "        'max_depth':[5,6,7,8],\n",
    "        'min_samples_split':[1,2,3,4],\n",
    "        'min_samples_leaf':[4,45,6,7] \n",
    "         }\n",
    "\n",
    "gd=GridSearchCV(dt,dt_dict,cv=5,verbose=22)\n"
   ]
  },
  {
   "cell_type": "code",
   "execution_count": 31,
   "id": "02d8014f",
   "metadata": {},
   "outputs": [
    {
     "name": "stdout",
     "output_type": "stream",
     "text": [
      "Fitting 5 folds for each of 64 candidates, totalling 320 fits\n",
      "[CV 1/5; 1/64] START max_depth=5, min_samples_leaf=4, min_samples_split=1.......\n",
      "[CV 1/5; 1/64] END max_depth=5, min_samples_leaf=4, min_samples_split=1; total time=   1.2s\n",
      "[CV 2/5; 1/64] START max_depth=5, min_samples_leaf=4, min_samples_split=1.......\n",
      "[CV 2/5; 1/64] END max_depth=5, min_samples_leaf=4, min_samples_split=1; total time=   1.2s\n",
      "[CV 3/5; 1/64] START max_depth=5, min_samples_leaf=4, min_samples_split=1.......\n",
      "[CV 3/5; 1/64] END max_depth=5, min_samples_leaf=4, min_samples_split=1; total time=   1.2s\n",
      "[CV 4/5; 1/64] START max_depth=5, min_samples_leaf=4, min_samples_split=1.......\n",
      "[CV 4/5; 1/64] END max_depth=5, min_samples_leaf=4, min_samples_split=1; total time=   1.3s\n",
      "[CV 5/5; 1/64] START max_depth=5, min_samples_leaf=4, min_samples_split=1.......\n",
      "[CV 5/5; 1/64] END max_depth=5, min_samples_leaf=4, min_samples_split=1; total time=   1.2s\n",
      "[CV 1/5; 2/64] START max_depth=5, min_samples_leaf=4, min_samples_split=2.......\n",
      "[CV 1/5; 2/64] END max_depth=5, min_samples_leaf=4, min_samples_split=2; total time=   4.4s\n",
      "[CV 2/5; 2/64] START max_depth=5, min_samples_leaf=4, min_samples_split=2.......\n",
      "[CV 2/5; 2/64] END max_depth=5, min_samples_leaf=4, min_samples_split=2; total time=   4.2s\n",
      "[CV 3/5; 2/64] START max_depth=5, min_samples_leaf=4, min_samples_split=2.......\n",
      "[CV 3/5; 2/64] END max_depth=5, min_samples_leaf=4, min_samples_split=2; total time=   4.5s\n",
      "[CV 4/5; 2/64] START max_depth=5, min_samples_leaf=4, min_samples_split=2.......\n",
      "[CV 4/5; 2/64] END max_depth=5, min_samples_leaf=4, min_samples_split=2; total time=   4.1s\n",
      "[CV 5/5; 2/64] START max_depth=5, min_samples_leaf=4, min_samples_split=2.......\n",
      "[CV 5/5; 2/64] END max_depth=5, min_samples_leaf=4, min_samples_split=2; total time=   4.3s\n",
      "[CV 1/5; 3/64] START max_depth=5, min_samples_leaf=4, min_samples_split=3.......\n",
      "[CV 1/5; 3/64] END max_depth=5, min_samples_leaf=4, min_samples_split=3; total time=   4.2s\n",
      "[CV 2/5; 3/64] START max_depth=5, min_samples_leaf=4, min_samples_split=3.......\n",
      "[CV 2/5; 3/64] END max_depth=5, min_samples_leaf=4, min_samples_split=3; total time=   4.1s\n",
      "[CV 3/5; 3/64] START max_depth=5, min_samples_leaf=4, min_samples_split=3.......\n",
      "[CV 3/5; 3/64] END max_depth=5, min_samples_leaf=4, min_samples_split=3; total time=   4.2s\n",
      "[CV 4/5; 3/64] START max_depth=5, min_samples_leaf=4, min_samples_split=3.......\n",
      "[CV 4/5; 3/64] END max_depth=5, min_samples_leaf=4, min_samples_split=3; total time=   4.1s\n",
      "[CV 5/5; 3/64] START max_depth=5, min_samples_leaf=4, min_samples_split=3.......\n",
      "[CV 5/5; 3/64] END max_depth=5, min_samples_leaf=4, min_samples_split=3; total time=   4.0s\n",
      "[CV 1/5; 4/64] START max_depth=5, min_samples_leaf=4, min_samples_split=4.......\n",
      "[CV 1/5; 4/64] END max_depth=5, min_samples_leaf=4, min_samples_split=4; total time=   4.1s\n",
      "[CV 2/5; 4/64] START max_depth=5, min_samples_leaf=4, min_samples_split=4.......\n",
      "[CV 2/5; 4/64] END max_depth=5, min_samples_leaf=4, min_samples_split=4; total time=   4.1s\n",
      "[CV 3/5; 4/64] START max_depth=5, min_samples_leaf=4, min_samples_split=4.......\n",
      "[CV 3/5; 4/64] END max_depth=5, min_samples_leaf=4, min_samples_split=4; total time=   4.1s\n",
      "[CV 4/5; 4/64] START max_depth=5, min_samples_leaf=4, min_samples_split=4.......\n",
      "[CV 4/5; 4/64] END max_depth=5, min_samples_leaf=4, min_samples_split=4; total time=   4.1s\n",
      "[CV 5/5; 4/64] START max_depth=5, min_samples_leaf=4, min_samples_split=4.......\n",
      "[CV 5/5; 4/64] END max_depth=5, min_samples_leaf=4, min_samples_split=4; total time=   4.1s\n",
      "[CV 1/5; 5/64] START max_depth=5, min_samples_leaf=45, min_samples_split=1......\n",
      "[CV 1/5; 5/64] END max_depth=5, min_samples_leaf=45, min_samples_split=1; total time=   1.1s\n",
      "[CV 2/5; 5/64] START max_depth=5, min_samples_leaf=45, min_samples_split=1......\n",
      "[CV 2/5; 5/64] END max_depth=5, min_samples_leaf=45, min_samples_split=1; total time=   1.3s\n",
      "[CV 3/5; 5/64] START max_depth=5, min_samples_leaf=45, min_samples_split=1......\n",
      "[CV 3/5; 5/64] END max_depth=5, min_samples_leaf=45, min_samples_split=1; total time=   1.1s\n",
      "[CV 4/5; 5/64] START max_depth=5, min_samples_leaf=45, min_samples_split=1......\n",
      "[CV 4/5; 5/64] END max_depth=5, min_samples_leaf=45, min_samples_split=1; total time=   1.1s\n",
      "[CV 5/5; 5/64] START max_depth=5, min_samples_leaf=45, min_samples_split=1......\n",
      "[CV 5/5; 5/64] END max_depth=5, min_samples_leaf=45, min_samples_split=1; total time=   1.2s\n",
      "[CV 1/5; 6/64] START max_depth=5, min_samples_leaf=45, min_samples_split=2......\n",
      "[CV 1/5; 6/64] END max_depth=5, min_samples_leaf=45, min_samples_split=2; total time=   4.1s\n",
      "[CV 2/5; 6/64] START max_depth=5, min_samples_leaf=45, min_samples_split=2......\n",
      "[CV 2/5; 6/64] END max_depth=5, min_samples_leaf=45, min_samples_split=2; total time=   4.0s\n",
      "[CV 3/5; 6/64] START max_depth=5, min_samples_leaf=45, min_samples_split=2......\n",
      "[CV 3/5; 6/64] END max_depth=5, min_samples_leaf=45, min_samples_split=2; total time=   4.1s\n",
      "[CV 4/5; 6/64] START max_depth=5, min_samples_leaf=45, min_samples_split=2......\n",
      "[CV 4/5; 6/64] END max_depth=5, min_samples_leaf=45, min_samples_split=2; total time=   3.9s\n",
      "[CV 5/5; 6/64] START max_depth=5, min_samples_leaf=45, min_samples_split=2......\n",
      "[CV 5/5; 6/64] END max_depth=5, min_samples_leaf=45, min_samples_split=2; total time=   4.0s\n",
      "[CV 1/5; 7/64] START max_depth=5, min_samples_leaf=45, min_samples_split=3......\n",
      "[CV 1/5; 7/64] END max_depth=5, min_samples_leaf=45, min_samples_split=3; total time=   4.1s\n",
      "[CV 2/5; 7/64] START max_depth=5, min_samples_leaf=45, min_samples_split=3......\n",
      "[CV 2/5; 7/64] END max_depth=5, min_samples_leaf=45, min_samples_split=3; total time=   4.0s\n",
      "[CV 3/5; 7/64] START max_depth=5, min_samples_leaf=45, min_samples_split=3......\n",
      "[CV 3/5; 7/64] END max_depth=5, min_samples_leaf=45, min_samples_split=3; total time=   4.2s\n",
      "[CV 4/5; 7/64] START max_depth=5, min_samples_leaf=45, min_samples_split=3......\n",
      "[CV 4/5; 7/64] END max_depth=5, min_samples_leaf=45, min_samples_split=3; total time=   4.0s\n",
      "[CV 5/5; 7/64] START max_depth=5, min_samples_leaf=45, min_samples_split=3......\n",
      "[CV 5/5; 7/64] END max_depth=5, min_samples_leaf=45, min_samples_split=3; total time=   4.1s\n",
      "[CV 1/5; 8/64] START max_depth=5, min_samples_leaf=45, min_samples_split=4......\n",
      "[CV 1/5; 8/64] END max_depth=5, min_samples_leaf=45, min_samples_split=4; total time=   4.1s\n",
      "[CV 2/5; 8/64] START max_depth=5, min_samples_leaf=45, min_samples_split=4......\n",
      "[CV 2/5; 8/64] END max_depth=5, min_samples_leaf=45, min_samples_split=4; total time=   4.1s\n",
      "[CV 3/5; 8/64] START max_depth=5, min_samples_leaf=45, min_samples_split=4......\n",
      "[CV 3/5; 8/64] END max_depth=5, min_samples_leaf=45, min_samples_split=4; total time=   4.1s\n",
      "[CV 4/5; 8/64] START max_depth=5, min_samples_leaf=45, min_samples_split=4......\n",
      "[CV 4/5; 8/64] END max_depth=5, min_samples_leaf=45, min_samples_split=4; total time=   4.0s\n",
      "[CV 5/5; 8/64] START max_depth=5, min_samples_leaf=45, min_samples_split=4......\n",
      "[CV 5/5; 8/64] END max_depth=5, min_samples_leaf=45, min_samples_split=4; total time=   4.1s\n",
      "[CV 1/5; 9/64] START max_depth=5, min_samples_leaf=6, min_samples_split=1.......\n",
      "[CV 1/5; 9/64] END max_depth=5, min_samples_leaf=6, min_samples_split=1; total time=   1.2s\n",
      "[CV 2/5; 9/64] START max_depth=5, min_samples_leaf=6, min_samples_split=1.......\n",
      "[CV 2/5; 9/64] END max_depth=5, min_samples_leaf=6, min_samples_split=1; total time=   1.1s\n",
      "[CV 3/5; 9/64] START max_depth=5, min_samples_leaf=6, min_samples_split=1.......\n",
      "[CV 3/5; 9/64] END max_depth=5, min_samples_leaf=6, min_samples_split=1; total time=   1.1s\n",
      "[CV 4/5; 9/64] START max_depth=5, min_samples_leaf=6, min_samples_split=1.......\n",
      "[CV 4/5; 9/64] END max_depth=5, min_samples_leaf=6, min_samples_split=1; total time=   1.1s\n",
      "[CV 5/5; 9/64] START max_depth=5, min_samples_leaf=6, min_samples_split=1.......\n",
      "[CV 5/5; 9/64] END max_depth=5, min_samples_leaf=6, min_samples_split=1; total time=   1.2s\n",
      "[CV 1/5; 10/64] START max_depth=5, min_samples_leaf=6, min_samples_split=2......\n",
      "[CV 1/5; 10/64] END max_depth=5, min_samples_leaf=6, min_samples_split=2; total time=   4.1s\n",
      "[CV 2/5; 10/64] START max_depth=5, min_samples_leaf=6, min_samples_split=2......\n",
      "[CV 2/5; 10/64] END max_depth=5, min_samples_leaf=6, min_samples_split=2; total time=   4.0s\n",
      "[CV 3/5; 10/64] START max_depth=5, min_samples_leaf=6, min_samples_split=2......\n"
     ]
    },
    {
     "name": "stdout",
     "output_type": "stream",
     "text": [
      "[CV 3/5; 10/64] END max_depth=5, min_samples_leaf=6, min_samples_split=2; total time=   4.1s\n",
      "[CV 4/5; 10/64] START max_depth=5, min_samples_leaf=6, min_samples_split=2......\n",
      "[CV 4/5; 10/64] END max_depth=5, min_samples_leaf=6, min_samples_split=2; total time=   3.9s\n",
      "[CV 5/5; 10/64] START max_depth=5, min_samples_leaf=6, min_samples_split=2......\n",
      "[CV 5/5; 10/64] END max_depth=5, min_samples_leaf=6, min_samples_split=2; total time=   4.0s\n",
      "[CV 1/5; 11/64] START max_depth=5, min_samples_leaf=6, min_samples_split=3......\n",
      "[CV 1/5; 11/64] END max_depth=5, min_samples_leaf=6, min_samples_split=3; total time=   4.0s\n",
      "[CV 2/5; 11/64] START max_depth=5, min_samples_leaf=6, min_samples_split=3......\n",
      "[CV 2/5; 11/64] END max_depth=5, min_samples_leaf=6, min_samples_split=3; total time=   4.0s\n",
      "[CV 3/5; 11/64] START max_depth=5, min_samples_leaf=6, min_samples_split=3......\n",
      "[CV 3/5; 11/64] END max_depth=5, min_samples_leaf=6, min_samples_split=3; total time=   4.0s\n",
      "[CV 4/5; 11/64] START max_depth=5, min_samples_leaf=6, min_samples_split=3......\n",
      "[CV 4/5; 11/64] END max_depth=5, min_samples_leaf=6, min_samples_split=3; total time=   4.1s\n",
      "[CV 5/5; 11/64] START max_depth=5, min_samples_leaf=6, min_samples_split=3......\n",
      "[CV 5/5; 11/64] END max_depth=5, min_samples_leaf=6, min_samples_split=3; total time=   4.1s\n",
      "[CV 1/5; 12/64] START max_depth=5, min_samples_leaf=6, min_samples_split=4......\n",
      "[CV 1/5; 12/64] END max_depth=5, min_samples_leaf=6, min_samples_split=4; total time=   4.1s\n",
      "[CV 2/5; 12/64] START max_depth=5, min_samples_leaf=6, min_samples_split=4......\n",
      "[CV 2/5; 12/64] END max_depth=5, min_samples_leaf=6, min_samples_split=4; total time=   3.9s\n",
      "[CV 3/5; 12/64] START max_depth=5, min_samples_leaf=6, min_samples_split=4......\n",
      "[CV 3/5; 12/64] END max_depth=5, min_samples_leaf=6, min_samples_split=4; total time=   3.9s\n",
      "[CV 4/5; 12/64] START max_depth=5, min_samples_leaf=6, min_samples_split=4......\n",
      "[CV 4/5; 12/64] END max_depth=5, min_samples_leaf=6, min_samples_split=4; total time=   3.8s\n",
      "[CV 5/5; 12/64] START max_depth=5, min_samples_leaf=6, min_samples_split=4......\n",
      "[CV 5/5; 12/64] END max_depth=5, min_samples_leaf=6, min_samples_split=4; total time=   3.8s\n",
      "[CV 1/5; 13/64] START max_depth=5, min_samples_leaf=7, min_samples_split=1......\n",
      "[CV 1/5; 13/64] END max_depth=5, min_samples_leaf=7, min_samples_split=1; total time=   1.1s\n",
      "[CV 2/5; 13/64] START max_depth=5, min_samples_leaf=7, min_samples_split=1......\n",
      "[CV 2/5; 13/64] END max_depth=5, min_samples_leaf=7, min_samples_split=1; total time=   1.2s\n",
      "[CV 3/5; 13/64] START max_depth=5, min_samples_leaf=7, min_samples_split=1......\n",
      "[CV 3/5; 13/64] END max_depth=5, min_samples_leaf=7, min_samples_split=1; total time=   1.1s\n",
      "[CV 4/5; 13/64] START max_depth=5, min_samples_leaf=7, min_samples_split=1......\n",
      "[CV 4/5; 13/64] END max_depth=5, min_samples_leaf=7, min_samples_split=1; total time=   1.1s\n",
      "[CV 5/5; 13/64] START max_depth=5, min_samples_leaf=7, min_samples_split=1......\n",
      "[CV 5/5; 13/64] END max_depth=5, min_samples_leaf=7, min_samples_split=1; total time=   1.1s\n",
      "[CV 1/5; 14/64] START max_depth=5, min_samples_leaf=7, min_samples_split=2......\n",
      "[CV 1/5; 14/64] END max_depth=5, min_samples_leaf=7, min_samples_split=2; total time=   3.8s\n",
      "[CV 2/5; 14/64] START max_depth=5, min_samples_leaf=7, min_samples_split=2......\n",
      "[CV 2/5; 14/64] END max_depth=5, min_samples_leaf=7, min_samples_split=2; total time=   3.9s\n",
      "[CV 3/5; 14/64] START max_depth=5, min_samples_leaf=7, min_samples_split=2......\n",
      "[CV 3/5; 14/64] END max_depth=5, min_samples_leaf=7, min_samples_split=2; total time=   3.9s\n",
      "[CV 4/5; 14/64] START max_depth=5, min_samples_leaf=7, min_samples_split=2......\n",
      "[CV 4/5; 14/64] END max_depth=5, min_samples_leaf=7, min_samples_split=2; total time=   3.8s\n",
      "[CV 5/5; 14/64] START max_depth=5, min_samples_leaf=7, min_samples_split=2......\n",
      "[CV 5/5; 14/64] END max_depth=5, min_samples_leaf=7, min_samples_split=2; total time=   3.8s\n",
      "[CV 1/5; 15/64] START max_depth=5, min_samples_leaf=7, min_samples_split=3......\n",
      "[CV 1/5; 15/64] END max_depth=5, min_samples_leaf=7, min_samples_split=3; total time=   3.8s\n",
      "[CV 2/5; 15/64] START max_depth=5, min_samples_leaf=7, min_samples_split=3......\n",
      "[CV 2/5; 15/64] END max_depth=5, min_samples_leaf=7, min_samples_split=3; total time=   3.9s\n",
      "[CV 3/5; 15/64] START max_depth=5, min_samples_leaf=7, min_samples_split=3......\n",
      "[CV 3/5; 15/64] END max_depth=5, min_samples_leaf=7, min_samples_split=3; total time=   4.0s\n",
      "[CV 4/5; 15/64] START max_depth=5, min_samples_leaf=7, min_samples_split=3......\n",
      "[CV 4/5; 15/64] END max_depth=5, min_samples_leaf=7, min_samples_split=3; total time=   3.9s\n",
      "[CV 5/5; 15/64] START max_depth=5, min_samples_leaf=7, min_samples_split=3......\n",
      "[CV 5/5; 15/64] END max_depth=5, min_samples_leaf=7, min_samples_split=3; total time=   3.8s\n",
      "[CV 1/5; 16/64] START max_depth=5, min_samples_leaf=7, min_samples_split=4......\n",
      "[CV 1/5; 16/64] END max_depth=5, min_samples_leaf=7, min_samples_split=4; total time=   3.9s\n",
      "[CV 2/5; 16/64] START max_depth=5, min_samples_leaf=7, min_samples_split=4......\n",
      "[CV 2/5; 16/64] END max_depth=5, min_samples_leaf=7, min_samples_split=4; total time=   3.9s\n",
      "[CV 3/5; 16/64] START max_depth=5, min_samples_leaf=7, min_samples_split=4......\n",
      "[CV 3/5; 16/64] END max_depth=5, min_samples_leaf=7, min_samples_split=4; total time=   3.9s\n",
      "[CV 4/5; 16/64] START max_depth=5, min_samples_leaf=7, min_samples_split=4......\n",
      "[CV 4/5; 16/64] END max_depth=5, min_samples_leaf=7, min_samples_split=4; total time=   3.9s\n",
      "[CV 5/5; 16/64] START max_depth=5, min_samples_leaf=7, min_samples_split=4......\n",
      "[CV 5/5; 16/64] END max_depth=5, min_samples_leaf=7, min_samples_split=4; total time=   3.8s\n",
      "[CV 1/5; 17/64] START max_depth=6, min_samples_leaf=4, min_samples_split=1......\n",
      "[CV 1/5; 17/64] END max_depth=6, min_samples_leaf=4, min_samples_split=1; total time=   1.1s\n",
      "[CV 2/5; 17/64] START max_depth=6, min_samples_leaf=4, min_samples_split=1......\n",
      "[CV 2/5; 17/64] END max_depth=6, min_samples_leaf=4, min_samples_split=1; total time=   1.1s\n",
      "[CV 3/5; 17/64] START max_depth=6, min_samples_leaf=4, min_samples_split=1......\n",
      "[CV 3/5; 17/64] END max_depth=6, min_samples_leaf=4, min_samples_split=1; total time=   1.1s\n",
      "[CV 4/5; 17/64] START max_depth=6, min_samples_leaf=4, min_samples_split=1......\n",
      "[CV 4/5; 17/64] END max_depth=6, min_samples_leaf=4, min_samples_split=1; total time=   1.1s\n",
      "[CV 5/5; 17/64] START max_depth=6, min_samples_leaf=4, min_samples_split=1......\n",
      "[CV 5/5; 17/64] END max_depth=6, min_samples_leaf=4, min_samples_split=1; total time=   1.1s\n",
      "[CV 1/5; 18/64] START max_depth=6, min_samples_leaf=4, min_samples_split=2......\n",
      "[CV 1/5; 18/64] END max_depth=6, min_samples_leaf=4, min_samples_split=2; total time=   4.6s\n",
      "[CV 2/5; 18/64] START max_depth=6, min_samples_leaf=4, min_samples_split=2......\n",
      "[CV 2/5; 18/64] END max_depth=6, min_samples_leaf=4, min_samples_split=2; total time=   4.4s\n",
      "[CV 3/5; 18/64] START max_depth=6, min_samples_leaf=4, min_samples_split=2......\n",
      "[CV 3/5; 18/64] END max_depth=6, min_samples_leaf=4, min_samples_split=2; total time=   4.4s\n",
      "[CV 4/5; 18/64] START max_depth=6, min_samples_leaf=4, min_samples_split=2......\n",
      "[CV 4/5; 18/64] END max_depth=6, min_samples_leaf=4, min_samples_split=2; total time=   4.5s\n",
      "[CV 5/5; 18/64] START max_depth=6, min_samples_leaf=4, min_samples_split=2......\n",
      "[CV 5/5; 18/64] END max_depth=6, min_samples_leaf=4, min_samples_split=2; total time=   4.6s\n",
      "[CV 1/5; 19/64] START max_depth=6, min_samples_leaf=4, min_samples_split=3......\n",
      "[CV 1/5; 19/64] END max_depth=6, min_samples_leaf=4, min_samples_split=3; total time=   5.2s\n",
      "[CV 2/5; 19/64] START max_depth=6, min_samples_leaf=4, min_samples_split=3......\n",
      "[CV 2/5; 19/64] END max_depth=6, min_samples_leaf=4, min_samples_split=3; total time=   5.2s\n",
      "[CV 3/5; 19/64] START max_depth=6, min_samples_leaf=4, min_samples_split=3......\n",
      "[CV 3/5; 19/64] END max_depth=6, min_samples_leaf=4, min_samples_split=3; total time=   4.5s\n",
      "[CV 4/5; 19/64] START max_depth=6, min_samples_leaf=4, min_samples_split=3......\n",
      "[CV 4/5; 19/64] END max_depth=6, min_samples_leaf=4, min_samples_split=3; total time=   4.5s\n",
      "[CV 5/5; 19/64] START max_depth=6, min_samples_leaf=4, min_samples_split=3......\n",
      "[CV 5/5; 19/64] END max_depth=6, min_samples_leaf=4, min_samples_split=3; total time=   4.8s\n",
      "[CV 1/5; 20/64] START max_depth=6, min_samples_leaf=4, min_samples_split=4......\n"
     ]
    },
    {
     "name": "stdout",
     "output_type": "stream",
     "text": [
      "[CV 1/5; 20/64] END max_depth=6, min_samples_leaf=4, min_samples_split=4; total time=   4.8s\n",
      "[CV 2/5; 20/64] START max_depth=6, min_samples_leaf=4, min_samples_split=4......\n",
      "[CV 2/5; 20/64] END max_depth=6, min_samples_leaf=4, min_samples_split=4; total time=   4.8s\n",
      "[CV 3/5; 20/64] START max_depth=6, min_samples_leaf=4, min_samples_split=4......\n",
      "[CV 3/5; 20/64] END max_depth=6, min_samples_leaf=4, min_samples_split=4; total time=   4.9s\n",
      "[CV 4/5; 20/64] START max_depth=6, min_samples_leaf=4, min_samples_split=4......\n",
      "[CV 4/5; 20/64] END max_depth=6, min_samples_leaf=4, min_samples_split=4; total time=   4.7s\n",
      "[CV 5/5; 20/64] START max_depth=6, min_samples_leaf=4, min_samples_split=4......\n",
      "[CV 5/5; 20/64] END max_depth=6, min_samples_leaf=4, min_samples_split=4; total time=   4.7s\n",
      "[CV 1/5; 21/64] START max_depth=6, min_samples_leaf=45, min_samples_split=1.....\n",
      "[CV 1/5; 21/64] END max_depth=6, min_samples_leaf=45, min_samples_split=1; total time=   1.2s\n",
      "[CV 2/5; 21/64] START max_depth=6, min_samples_leaf=45, min_samples_split=1.....\n",
      "[CV 2/5; 21/64] END max_depth=6, min_samples_leaf=45, min_samples_split=1; total time=   1.2s\n",
      "[CV 3/5; 21/64] START max_depth=6, min_samples_leaf=45, min_samples_split=1.....\n",
      "[CV 3/5; 21/64] END max_depth=6, min_samples_leaf=45, min_samples_split=1; total time=   1.2s\n",
      "[CV 4/5; 21/64] START max_depth=6, min_samples_leaf=45, min_samples_split=1.....\n",
      "[CV 4/5; 21/64] END max_depth=6, min_samples_leaf=45, min_samples_split=1; total time=   1.2s\n",
      "[CV 5/5; 21/64] START max_depth=6, min_samples_leaf=45, min_samples_split=1.....\n",
      "[CV 5/5; 21/64] END max_depth=6, min_samples_leaf=45, min_samples_split=1; total time=   1.2s\n",
      "[CV 1/5; 22/64] START max_depth=6, min_samples_leaf=45, min_samples_split=2.....\n",
      "[CV 1/5; 22/64] END max_depth=6, min_samples_leaf=45, min_samples_split=2; total time=   4.8s\n",
      "[CV 2/5; 22/64] START max_depth=6, min_samples_leaf=45, min_samples_split=2.....\n",
      "[CV 2/5; 22/64] END max_depth=6, min_samples_leaf=45, min_samples_split=2; total time=   4.8s\n",
      "[CV 3/5; 22/64] START max_depth=6, min_samples_leaf=45, min_samples_split=2.....\n",
      "[CV 3/5; 22/64] END max_depth=6, min_samples_leaf=45, min_samples_split=2; total time=   4.4s\n",
      "[CV 4/5; 22/64] START max_depth=6, min_samples_leaf=45, min_samples_split=2.....\n",
      "[CV 4/5; 22/64] END max_depth=6, min_samples_leaf=45, min_samples_split=2; total time=   4.5s\n",
      "[CV 5/5; 22/64] START max_depth=6, min_samples_leaf=45, min_samples_split=2.....\n",
      "[CV 5/5; 22/64] END max_depth=6, min_samples_leaf=45, min_samples_split=2; total time=   4.4s\n",
      "[CV 1/5; 23/64] START max_depth=6, min_samples_leaf=45, min_samples_split=3.....\n",
      "[CV 1/5; 23/64] END max_depth=6, min_samples_leaf=45, min_samples_split=3; total time=   4.3s\n",
      "[CV 2/5; 23/64] START max_depth=6, min_samples_leaf=45, min_samples_split=3.....\n",
      "[CV 2/5; 23/64] END max_depth=6, min_samples_leaf=45, min_samples_split=3; total time=   4.4s\n",
      "[CV 3/5; 23/64] START max_depth=6, min_samples_leaf=45, min_samples_split=3.....\n",
      "[CV 3/5; 23/64] END max_depth=6, min_samples_leaf=45, min_samples_split=3; total time=   4.4s\n",
      "[CV 4/5; 23/64] START max_depth=6, min_samples_leaf=45, min_samples_split=3.....\n",
      "[CV 4/5; 23/64] END max_depth=6, min_samples_leaf=45, min_samples_split=3; total time=   4.4s\n",
      "[CV 5/5; 23/64] START max_depth=6, min_samples_leaf=45, min_samples_split=3.....\n",
      "[CV 5/5; 23/64] END max_depth=6, min_samples_leaf=45, min_samples_split=3; total time=   4.4s\n",
      "[CV 1/5; 24/64] START max_depth=6, min_samples_leaf=45, min_samples_split=4.....\n",
      "[CV 1/5; 24/64] END max_depth=6, min_samples_leaf=45, min_samples_split=4; total time=   4.3s\n",
      "[CV 2/5; 24/64] START max_depth=6, min_samples_leaf=45, min_samples_split=4.....\n",
      "[CV 2/5; 24/64] END max_depth=6, min_samples_leaf=45, min_samples_split=4; total time=   4.4s\n",
      "[CV 3/5; 24/64] START max_depth=6, min_samples_leaf=45, min_samples_split=4.....\n",
      "[CV 3/5; 24/64] END max_depth=6, min_samples_leaf=45, min_samples_split=4; total time=   4.4s\n",
      "[CV 4/5; 24/64] START max_depth=6, min_samples_leaf=45, min_samples_split=4.....\n",
      "[CV 4/5; 24/64] END max_depth=6, min_samples_leaf=45, min_samples_split=4; total time=   4.4s\n",
      "[CV 5/5; 24/64] START max_depth=6, min_samples_leaf=45, min_samples_split=4.....\n",
      "[CV 5/5; 24/64] END max_depth=6, min_samples_leaf=45, min_samples_split=4; total time=   4.4s\n",
      "[CV 1/5; 25/64] START max_depth=6, min_samples_leaf=6, min_samples_split=1......\n",
      "[CV 1/5; 25/64] END max_depth=6, min_samples_leaf=6, min_samples_split=1; total time=   1.1s\n",
      "[CV 2/5; 25/64] START max_depth=6, min_samples_leaf=6, min_samples_split=1......\n",
      "[CV 2/5; 25/64] END max_depth=6, min_samples_leaf=6, min_samples_split=1; total time=   1.1s\n",
      "[CV 3/5; 25/64] START max_depth=6, min_samples_leaf=6, min_samples_split=1......\n",
      "[CV 3/5; 25/64] END max_depth=6, min_samples_leaf=6, min_samples_split=1; total time=   1.1s\n",
      "[CV 4/5; 25/64] START max_depth=6, min_samples_leaf=6, min_samples_split=1......\n",
      "[CV 4/5; 25/64] END max_depth=6, min_samples_leaf=6, min_samples_split=1; total time=   1.1s\n",
      "[CV 5/5; 25/64] START max_depth=6, min_samples_leaf=6, min_samples_split=1......\n",
      "[CV 5/5; 25/64] END max_depth=6, min_samples_leaf=6, min_samples_split=1; total time=   1.1s\n",
      "[CV 1/5; 26/64] START max_depth=6, min_samples_leaf=6, min_samples_split=2......\n",
      "[CV 1/5; 26/64] END max_depth=6, min_samples_leaf=6, min_samples_split=2; total time=   4.3s\n",
      "[CV 2/5; 26/64] START max_depth=6, min_samples_leaf=6, min_samples_split=2......\n",
      "[CV 2/5; 26/64] END max_depth=6, min_samples_leaf=6, min_samples_split=2; total time=   4.4s\n",
      "[CV 3/5; 26/64] START max_depth=6, min_samples_leaf=6, min_samples_split=2......\n",
      "[CV 3/5; 26/64] END max_depth=6, min_samples_leaf=6, min_samples_split=2; total time=   4.4s\n",
      "[CV 4/5; 26/64] START max_depth=6, min_samples_leaf=6, min_samples_split=2......\n",
      "[CV 4/5; 26/64] END max_depth=6, min_samples_leaf=6, min_samples_split=2; total time=   4.4s\n",
      "[CV 5/5; 26/64] START max_depth=6, min_samples_leaf=6, min_samples_split=2......\n",
      "[CV 5/5; 26/64] END max_depth=6, min_samples_leaf=6, min_samples_split=2; total time=   4.4s\n",
      "[CV 1/5; 27/64] START max_depth=6, min_samples_leaf=6, min_samples_split=3......\n",
      "[CV 1/5; 27/64] END max_depth=6, min_samples_leaf=6, min_samples_split=3; total time=   4.3s\n",
      "[CV 2/5; 27/64] START max_depth=6, min_samples_leaf=6, min_samples_split=3......\n",
      "[CV 2/5; 27/64] END max_depth=6, min_samples_leaf=6, min_samples_split=3; total time=   4.4s\n",
      "[CV 3/5; 27/64] START max_depth=6, min_samples_leaf=6, min_samples_split=3......\n",
      "[CV 3/5; 27/64] END max_depth=6, min_samples_leaf=6, min_samples_split=3; total time=   4.4s\n",
      "[CV 4/5; 27/64] START max_depth=6, min_samples_leaf=6, min_samples_split=3......\n",
      "[CV 4/5; 27/64] END max_depth=6, min_samples_leaf=6, min_samples_split=3; total time=   4.4s\n",
      "[CV 5/5; 27/64] START max_depth=6, min_samples_leaf=6, min_samples_split=3......\n",
      "[CV 5/5; 27/64] END max_depth=6, min_samples_leaf=6, min_samples_split=3; total time=   4.4s\n",
      "[CV 1/5; 28/64] START max_depth=6, min_samples_leaf=6, min_samples_split=4......\n",
      "[CV 1/5; 28/64] END max_depth=6, min_samples_leaf=6, min_samples_split=4; total time=   4.3s\n",
      "[CV 2/5; 28/64] START max_depth=6, min_samples_leaf=6, min_samples_split=4......\n",
      "[CV 2/5; 28/64] END max_depth=6, min_samples_leaf=6, min_samples_split=4; total time=   4.5s\n",
      "[CV 3/5; 28/64] START max_depth=6, min_samples_leaf=6, min_samples_split=4......\n",
      "[CV 3/5; 28/64] END max_depth=6, min_samples_leaf=6, min_samples_split=4; total time=   4.4s\n",
      "[CV 4/5; 28/64] START max_depth=6, min_samples_leaf=6, min_samples_split=4......\n",
      "[CV 4/5; 28/64] END max_depth=6, min_samples_leaf=6, min_samples_split=4; total time=   4.4s\n",
      "[CV 5/5; 28/64] START max_depth=6, min_samples_leaf=6, min_samples_split=4......\n",
      "[CV 5/5; 28/64] END max_depth=6, min_samples_leaf=6, min_samples_split=4; total time=   4.6s\n",
      "[CV 1/5; 29/64] START max_depth=6, min_samples_leaf=7, min_samples_split=1......\n",
      "[CV 1/5; 29/64] END max_depth=6, min_samples_leaf=7, min_samples_split=1; total time=   1.3s\n",
      "[CV 2/5; 29/64] START max_depth=6, min_samples_leaf=7, min_samples_split=1......\n",
      "[CV 2/5; 29/64] END max_depth=6, min_samples_leaf=7, min_samples_split=1; total time=   1.1s\n",
      "[CV 3/5; 29/64] START max_depth=6, min_samples_leaf=7, min_samples_split=1......\n"
     ]
    },
    {
     "name": "stdout",
     "output_type": "stream",
     "text": [
      "[CV 3/5; 29/64] END max_depth=6, min_samples_leaf=7, min_samples_split=1; total time=   1.1s\n",
      "[CV 4/5; 29/64] START max_depth=6, min_samples_leaf=7, min_samples_split=1......\n",
      "[CV 4/5; 29/64] END max_depth=6, min_samples_leaf=7, min_samples_split=1; total time=   1.1s\n",
      "[CV 5/5; 29/64] START max_depth=6, min_samples_leaf=7, min_samples_split=1......\n",
      "[CV 5/5; 29/64] END max_depth=6, min_samples_leaf=7, min_samples_split=1; total time=   1.1s\n",
      "[CV 1/5; 30/64] START max_depth=6, min_samples_leaf=7, min_samples_split=2......\n",
      "[CV 1/5; 30/64] END max_depth=6, min_samples_leaf=7, min_samples_split=2; total time=   4.3s\n",
      "[CV 2/5; 30/64] START max_depth=6, min_samples_leaf=7, min_samples_split=2......\n",
      "[CV 2/5; 30/64] END max_depth=6, min_samples_leaf=7, min_samples_split=2; total time=   4.4s\n",
      "[CV 3/5; 30/64] START max_depth=6, min_samples_leaf=7, min_samples_split=2......\n",
      "[CV 3/5; 30/64] END max_depth=6, min_samples_leaf=7, min_samples_split=2; total time=   4.4s\n",
      "[CV 4/5; 30/64] START max_depth=6, min_samples_leaf=7, min_samples_split=2......\n",
      "[CV 4/5; 30/64] END max_depth=6, min_samples_leaf=7, min_samples_split=2; total time=   4.5s\n",
      "[CV 5/5; 30/64] START max_depth=6, min_samples_leaf=7, min_samples_split=2......\n",
      "[CV 5/5; 30/64] END max_depth=6, min_samples_leaf=7, min_samples_split=2; total time=   4.4s\n",
      "[CV 1/5; 31/64] START max_depth=6, min_samples_leaf=7, min_samples_split=3......\n",
      "[CV 1/5; 31/64] END max_depth=6, min_samples_leaf=7, min_samples_split=3; total time=   4.3s\n",
      "[CV 2/5; 31/64] START max_depth=6, min_samples_leaf=7, min_samples_split=3......\n",
      "[CV 2/5; 31/64] END max_depth=6, min_samples_leaf=7, min_samples_split=3; total time=   4.4s\n",
      "[CV 3/5; 31/64] START max_depth=6, min_samples_leaf=7, min_samples_split=3......\n",
      "[CV 3/5; 31/64] END max_depth=6, min_samples_leaf=7, min_samples_split=3; total time=   4.4s\n",
      "[CV 4/5; 31/64] START max_depth=6, min_samples_leaf=7, min_samples_split=3......\n",
      "[CV 4/5; 31/64] END max_depth=6, min_samples_leaf=7, min_samples_split=3; total time=   4.5s\n",
      "[CV 5/5; 31/64] START max_depth=6, min_samples_leaf=7, min_samples_split=3......\n",
      "[CV 5/5; 31/64] END max_depth=6, min_samples_leaf=7, min_samples_split=3; total time=   4.4s\n",
      "[CV 1/5; 32/64] START max_depth=6, min_samples_leaf=7, min_samples_split=4......\n",
      "[CV 1/5; 32/64] END max_depth=6, min_samples_leaf=7, min_samples_split=4; total time=   4.3s\n",
      "[CV 2/5; 32/64] START max_depth=6, min_samples_leaf=7, min_samples_split=4......\n",
      "[CV 2/5; 32/64] END max_depth=6, min_samples_leaf=7, min_samples_split=4; total time=   4.4s\n",
      "[CV 3/5; 32/64] START max_depth=6, min_samples_leaf=7, min_samples_split=4......\n",
      "[CV 3/5; 32/64] END max_depth=6, min_samples_leaf=7, min_samples_split=4; total time=   4.4s\n",
      "[CV 4/5; 32/64] START max_depth=6, min_samples_leaf=7, min_samples_split=4......\n",
      "[CV 4/5; 32/64] END max_depth=6, min_samples_leaf=7, min_samples_split=4; total time=   4.4s\n",
      "[CV 5/5; 32/64] START max_depth=6, min_samples_leaf=7, min_samples_split=4......\n",
      "[CV 5/5; 32/64] END max_depth=6, min_samples_leaf=7, min_samples_split=4; total time=   4.4s\n",
      "[CV 1/5; 33/64] START max_depth=7, min_samples_leaf=4, min_samples_split=1......\n",
      "[CV 1/5; 33/64] END max_depth=7, min_samples_leaf=4, min_samples_split=1; total time=   1.2s\n",
      "[CV 2/5; 33/64] START max_depth=7, min_samples_leaf=4, min_samples_split=1......\n",
      "[CV 2/5; 33/64] END max_depth=7, min_samples_leaf=4, min_samples_split=1; total time=   1.1s\n",
      "[CV 3/5; 33/64] START max_depth=7, min_samples_leaf=4, min_samples_split=1......\n",
      "[CV 3/5; 33/64] END max_depth=7, min_samples_leaf=4, min_samples_split=1; total time=   1.1s\n",
      "[CV 4/5; 33/64] START max_depth=7, min_samples_leaf=4, min_samples_split=1......\n",
      "[CV 4/5; 33/64] END max_depth=7, min_samples_leaf=4, min_samples_split=1; total time=   1.1s\n",
      "[CV 5/5; 33/64] START max_depth=7, min_samples_leaf=4, min_samples_split=1......\n",
      "[CV 5/5; 33/64] END max_depth=7, min_samples_leaf=4, min_samples_split=1; total time=   1.1s\n",
      "[CV 1/5; 34/64] START max_depth=7, min_samples_leaf=4, min_samples_split=2......\n",
      "[CV 1/5; 34/64] END max_depth=7, min_samples_leaf=4, min_samples_split=2; total time=   4.8s\n",
      "[CV 2/5; 34/64] START max_depth=7, min_samples_leaf=4, min_samples_split=2......\n",
      "[CV 2/5; 34/64] END max_depth=7, min_samples_leaf=4, min_samples_split=2; total time=   4.9s\n",
      "[CV 3/5; 34/64] START max_depth=7, min_samples_leaf=4, min_samples_split=2......\n",
      "[CV 3/5; 34/64] END max_depth=7, min_samples_leaf=4, min_samples_split=2; total time=   4.8s\n",
      "[CV 4/5; 34/64] START max_depth=7, min_samples_leaf=4, min_samples_split=2......\n",
      "[CV 4/5; 34/64] END max_depth=7, min_samples_leaf=4, min_samples_split=2; total time=   5.0s\n",
      "[CV 5/5; 34/64] START max_depth=7, min_samples_leaf=4, min_samples_split=2......\n",
      "[CV 5/5; 34/64] END max_depth=7, min_samples_leaf=4, min_samples_split=2; total time=   5.0s\n",
      "[CV 1/5; 35/64] START max_depth=7, min_samples_leaf=4, min_samples_split=3......\n",
      "[CV 1/5; 35/64] END max_depth=7, min_samples_leaf=4, min_samples_split=3; total time=   4.8s\n",
      "[CV 2/5; 35/64] START max_depth=7, min_samples_leaf=4, min_samples_split=3......\n",
      "[CV 2/5; 35/64] END max_depth=7, min_samples_leaf=4, min_samples_split=3; total time=   4.9s\n",
      "[CV 3/5; 35/64] START max_depth=7, min_samples_leaf=4, min_samples_split=3......\n",
      "[CV 3/5; 35/64] END max_depth=7, min_samples_leaf=4, min_samples_split=3; total time=   4.8s\n",
      "[CV 4/5; 35/64] START max_depth=7, min_samples_leaf=4, min_samples_split=3......\n",
      "[CV 4/5; 35/64] END max_depth=7, min_samples_leaf=4, min_samples_split=3; total time=   4.9s\n",
      "[CV 5/5; 35/64] START max_depth=7, min_samples_leaf=4, min_samples_split=3......\n",
      "[CV 5/5; 35/64] END max_depth=7, min_samples_leaf=4, min_samples_split=3; total time=   4.9s\n",
      "[CV 1/5; 36/64] START max_depth=7, min_samples_leaf=4, min_samples_split=4......\n",
      "[CV 1/5; 36/64] END max_depth=7, min_samples_leaf=4, min_samples_split=4; total time=   4.8s\n",
      "[CV 2/5; 36/64] START max_depth=7, min_samples_leaf=4, min_samples_split=4......\n",
      "[CV 2/5; 36/64] END max_depth=7, min_samples_leaf=4, min_samples_split=4; total time=   4.9s\n",
      "[CV 3/5; 36/64] START max_depth=7, min_samples_leaf=4, min_samples_split=4......\n",
      "[CV 3/5; 36/64] END max_depth=7, min_samples_leaf=4, min_samples_split=4; total time=   4.8s\n",
      "[CV 4/5; 36/64] START max_depth=7, min_samples_leaf=4, min_samples_split=4......\n",
      "[CV 4/5; 36/64] END max_depth=7, min_samples_leaf=4, min_samples_split=4; total time=   4.9s\n",
      "[CV 5/5; 36/64] START max_depth=7, min_samples_leaf=4, min_samples_split=4......\n",
      "[CV 5/5; 36/64] END max_depth=7, min_samples_leaf=4, min_samples_split=4; total time=   4.9s\n",
      "[CV 1/5; 37/64] START max_depth=7, min_samples_leaf=45, min_samples_split=1.....\n",
      "[CV 1/5; 37/64] END max_depth=7, min_samples_leaf=45, min_samples_split=1; total time=   1.1s\n",
      "[CV 2/5; 37/64] START max_depth=7, min_samples_leaf=45, min_samples_split=1.....\n",
      "[CV 2/5; 37/64] END max_depth=7, min_samples_leaf=45, min_samples_split=1; total time=   1.1s\n",
      "[CV 3/5; 37/64] START max_depth=7, min_samples_leaf=45, min_samples_split=1.....\n",
      "[CV 3/5; 37/64] END max_depth=7, min_samples_leaf=45, min_samples_split=1; total time=   1.1s\n",
      "[CV 4/5; 37/64] START max_depth=7, min_samples_leaf=45, min_samples_split=1.....\n",
      "[CV 4/5; 37/64] END max_depth=7, min_samples_leaf=45, min_samples_split=1; total time=   1.1s\n",
      "[CV 5/5; 37/64] START max_depth=7, min_samples_leaf=45, min_samples_split=1.....\n",
      "[CV 5/5; 37/64] END max_depth=7, min_samples_leaf=45, min_samples_split=1; total time=   1.1s\n",
      "[CV 1/5; 38/64] START max_depth=7, min_samples_leaf=45, min_samples_split=2.....\n",
      "[CV 1/5; 38/64] END max_depth=7, min_samples_leaf=45, min_samples_split=2; total time=   4.8s\n",
      "[CV 2/5; 38/64] START max_depth=7, min_samples_leaf=45, min_samples_split=2.....\n",
      "[CV 2/5; 38/64] END max_depth=7, min_samples_leaf=45, min_samples_split=2; total time=   4.9s\n",
      "[CV 3/5; 38/64] START max_depth=7, min_samples_leaf=45, min_samples_split=2.....\n",
      "[CV 3/5; 38/64] END max_depth=7, min_samples_leaf=45, min_samples_split=2; total time=   4.8s\n",
      "[CV 4/5; 38/64] START max_depth=7, min_samples_leaf=45, min_samples_split=2.....\n",
      "[CV 4/5; 38/64] END max_depth=7, min_samples_leaf=45, min_samples_split=2; total time=   4.9s\n",
      "[CV 5/5; 38/64] START max_depth=7, min_samples_leaf=45, min_samples_split=2.....\n",
      "[CV 5/5; 38/64] END max_depth=7, min_samples_leaf=45, min_samples_split=2; total time=   4.9s\n",
      "[CV 1/5; 39/64] START max_depth=7, min_samples_leaf=45, min_samples_split=3.....\n"
     ]
    },
    {
     "name": "stdout",
     "output_type": "stream",
     "text": [
      "[CV 1/5; 39/64] END max_depth=7, min_samples_leaf=45, min_samples_split=3; total time=   4.8s\n",
      "[CV 2/5; 39/64] START max_depth=7, min_samples_leaf=45, min_samples_split=3.....\n",
      "[CV 2/5; 39/64] END max_depth=7, min_samples_leaf=45, min_samples_split=3; total time=   5.1s\n",
      "[CV 3/5; 39/64] START max_depth=7, min_samples_leaf=45, min_samples_split=3.....\n",
      "[CV 3/5; 39/64] END max_depth=7, min_samples_leaf=45, min_samples_split=3; total time=   5.0s\n",
      "[CV 4/5; 39/64] START max_depth=7, min_samples_leaf=45, min_samples_split=3.....\n",
      "[CV 4/5; 39/64] END max_depth=7, min_samples_leaf=45, min_samples_split=3; total time=   5.0s\n",
      "[CV 5/5; 39/64] START max_depth=7, min_samples_leaf=45, min_samples_split=3.....\n",
      "[CV 5/5; 39/64] END max_depth=7, min_samples_leaf=45, min_samples_split=3; total time=   4.9s\n",
      "[CV 1/5; 40/64] START max_depth=7, min_samples_leaf=45, min_samples_split=4.....\n",
      "[CV 1/5; 40/64] END max_depth=7, min_samples_leaf=45, min_samples_split=4; total time=   4.8s\n",
      "[CV 2/5; 40/64] START max_depth=7, min_samples_leaf=45, min_samples_split=4.....\n",
      "[CV 2/5; 40/64] END max_depth=7, min_samples_leaf=45, min_samples_split=4; total time=   5.0s\n",
      "[CV 3/5; 40/64] START max_depth=7, min_samples_leaf=45, min_samples_split=4.....\n",
      "[CV 3/5; 40/64] END max_depth=7, min_samples_leaf=45, min_samples_split=4; total time=   5.3s\n",
      "[CV 4/5; 40/64] START max_depth=7, min_samples_leaf=45, min_samples_split=4.....\n",
      "[CV 4/5; 40/64] END max_depth=7, min_samples_leaf=45, min_samples_split=4; total time=   4.9s\n",
      "[CV 5/5; 40/64] START max_depth=7, min_samples_leaf=45, min_samples_split=4.....\n",
      "[CV 5/5; 40/64] END max_depth=7, min_samples_leaf=45, min_samples_split=4; total time=   5.1s\n",
      "[CV 1/5; 41/64] START max_depth=7, min_samples_leaf=6, min_samples_split=1......\n",
      "[CV 1/5; 41/64] END max_depth=7, min_samples_leaf=6, min_samples_split=1; total time=   1.2s\n",
      "[CV 2/5; 41/64] START max_depth=7, min_samples_leaf=6, min_samples_split=1......\n",
      "[CV 2/5; 41/64] END max_depth=7, min_samples_leaf=6, min_samples_split=1; total time=   1.1s\n",
      "[CV 3/5; 41/64] START max_depth=7, min_samples_leaf=6, min_samples_split=1......\n",
      "[CV 3/5; 41/64] END max_depth=7, min_samples_leaf=6, min_samples_split=1; total time=   1.2s\n",
      "[CV 4/5; 41/64] START max_depth=7, min_samples_leaf=6, min_samples_split=1......\n",
      "[CV 4/5; 41/64] END max_depth=7, min_samples_leaf=6, min_samples_split=1; total time=   1.1s\n",
      "[CV 5/5; 41/64] START max_depth=7, min_samples_leaf=6, min_samples_split=1......\n",
      "[CV 5/5; 41/64] END max_depth=7, min_samples_leaf=6, min_samples_split=1; total time=   1.1s\n",
      "[CV 1/5; 42/64] START max_depth=7, min_samples_leaf=6, min_samples_split=2......\n",
      "[CV 1/5; 42/64] END max_depth=7, min_samples_leaf=6, min_samples_split=2; total time=   4.8s\n",
      "[CV 2/5; 42/64] START max_depth=7, min_samples_leaf=6, min_samples_split=2......\n",
      "[CV 2/5; 42/64] END max_depth=7, min_samples_leaf=6, min_samples_split=2; total time=   5.0s\n",
      "[CV 3/5; 42/64] START max_depth=7, min_samples_leaf=6, min_samples_split=2......\n",
      "[CV 3/5; 42/64] END max_depth=7, min_samples_leaf=6, min_samples_split=2; total time=   4.8s\n",
      "[CV 4/5; 42/64] START max_depth=7, min_samples_leaf=6, min_samples_split=2......\n",
      "[CV 4/5; 42/64] END max_depth=7, min_samples_leaf=6, min_samples_split=2; total time=   4.9s\n",
      "[CV 5/5; 42/64] START max_depth=7, min_samples_leaf=6, min_samples_split=2......\n",
      "[CV 5/5; 42/64] END max_depth=7, min_samples_leaf=6, min_samples_split=2; total time=   4.9s\n",
      "[CV 1/5; 43/64] START max_depth=7, min_samples_leaf=6, min_samples_split=3......\n",
      "[CV 1/5; 43/64] END max_depth=7, min_samples_leaf=6, min_samples_split=3; total time=   4.8s\n",
      "[CV 2/5; 43/64] START max_depth=7, min_samples_leaf=6, min_samples_split=3......\n",
      "[CV 2/5; 43/64] END max_depth=7, min_samples_leaf=6, min_samples_split=3; total time=   4.9s\n",
      "[CV 3/5; 43/64] START max_depth=7, min_samples_leaf=6, min_samples_split=3......\n",
      "[CV 3/5; 43/64] END max_depth=7, min_samples_leaf=6, min_samples_split=3; total time=   4.8s\n",
      "[CV 4/5; 43/64] START max_depth=7, min_samples_leaf=6, min_samples_split=3......\n",
      "[CV 4/5; 43/64] END max_depth=7, min_samples_leaf=6, min_samples_split=3; total time=   4.9s\n",
      "[CV 5/5; 43/64] START max_depth=7, min_samples_leaf=6, min_samples_split=3......\n",
      "[CV 5/5; 43/64] END max_depth=7, min_samples_leaf=6, min_samples_split=3; total time=   4.9s\n",
      "[CV 1/5; 44/64] START max_depth=7, min_samples_leaf=6, min_samples_split=4......\n",
      "[CV 1/5; 44/64] END max_depth=7, min_samples_leaf=6, min_samples_split=4; total time=   4.8s\n",
      "[CV 2/5; 44/64] START max_depth=7, min_samples_leaf=6, min_samples_split=4......\n",
      "[CV 2/5; 44/64] END max_depth=7, min_samples_leaf=6, min_samples_split=4; total time=   4.9s\n",
      "[CV 3/5; 44/64] START max_depth=7, min_samples_leaf=6, min_samples_split=4......\n",
      "[CV 3/5; 44/64] END max_depth=7, min_samples_leaf=6, min_samples_split=4; total time=   4.8s\n",
      "[CV 4/5; 44/64] START max_depth=7, min_samples_leaf=6, min_samples_split=4......\n",
      "[CV 4/5; 44/64] END max_depth=7, min_samples_leaf=6, min_samples_split=4; total time=   4.9s\n",
      "[CV 5/5; 44/64] START max_depth=7, min_samples_leaf=6, min_samples_split=4......\n",
      "[CV 5/5; 44/64] END max_depth=7, min_samples_leaf=6, min_samples_split=4; total time=   4.9s\n",
      "[CV 1/5; 45/64] START max_depth=7, min_samples_leaf=7, min_samples_split=1......\n",
      "[CV 1/5; 45/64] END max_depth=7, min_samples_leaf=7, min_samples_split=1; total time=   1.1s\n",
      "[CV 2/5; 45/64] START max_depth=7, min_samples_leaf=7, min_samples_split=1......\n",
      "[CV 2/5; 45/64] END max_depth=7, min_samples_leaf=7, min_samples_split=1; total time=   1.1s\n",
      "[CV 3/5; 45/64] START max_depth=7, min_samples_leaf=7, min_samples_split=1......\n",
      "[CV 3/5; 45/64] END max_depth=7, min_samples_leaf=7, min_samples_split=1; total time=   1.1s\n",
      "[CV 4/5; 45/64] START max_depth=7, min_samples_leaf=7, min_samples_split=1......\n",
      "[CV 4/5; 45/64] END max_depth=7, min_samples_leaf=7, min_samples_split=1; total time=   1.1s\n",
      "[CV 5/5; 45/64] START max_depth=7, min_samples_leaf=7, min_samples_split=1......\n",
      "[CV 5/5; 45/64] END max_depth=7, min_samples_leaf=7, min_samples_split=1; total time=   1.1s\n",
      "[CV 1/5; 46/64] START max_depth=7, min_samples_leaf=7, min_samples_split=2......\n",
      "[CV 1/5; 46/64] END max_depth=7, min_samples_leaf=7, min_samples_split=2; total time=   4.8s\n",
      "[CV 2/5; 46/64] START max_depth=7, min_samples_leaf=7, min_samples_split=2......\n",
      "[CV 2/5; 46/64] END max_depth=7, min_samples_leaf=7, min_samples_split=2; total time=   4.9s\n",
      "[CV 3/5; 46/64] START max_depth=7, min_samples_leaf=7, min_samples_split=2......\n",
      "[CV 3/5; 46/64] END max_depth=7, min_samples_leaf=7, min_samples_split=2; total time=   4.8s\n",
      "[CV 4/5; 46/64] START max_depth=7, min_samples_leaf=7, min_samples_split=2......\n",
      "[CV 4/5; 46/64] END max_depth=7, min_samples_leaf=7, min_samples_split=2; total time=   5.0s\n",
      "[CV 5/5; 46/64] START max_depth=7, min_samples_leaf=7, min_samples_split=2......\n",
      "[CV 5/5; 46/64] END max_depth=7, min_samples_leaf=7, min_samples_split=2; total time=   4.9s\n",
      "[CV 1/5; 47/64] START max_depth=7, min_samples_leaf=7, min_samples_split=3......\n",
      "[CV 1/5; 47/64] END max_depth=7, min_samples_leaf=7, min_samples_split=3; total time=   4.8s\n",
      "[CV 2/5; 47/64] START max_depth=7, min_samples_leaf=7, min_samples_split=3......\n",
      "[CV 2/5; 47/64] END max_depth=7, min_samples_leaf=7, min_samples_split=3; total time=   4.9s\n",
      "[CV 3/5; 47/64] START max_depth=7, min_samples_leaf=7, min_samples_split=3......\n",
      "[CV 3/5; 47/64] END max_depth=7, min_samples_leaf=7, min_samples_split=3; total time=   5.0s\n",
      "[CV 4/5; 47/64] START max_depth=7, min_samples_leaf=7, min_samples_split=3......\n",
      "[CV 4/5; 47/64] END max_depth=7, min_samples_leaf=7, min_samples_split=3; total time=   4.9s\n",
      "[CV 5/5; 47/64] START max_depth=7, min_samples_leaf=7, min_samples_split=3......\n",
      "[CV 5/5; 47/64] END max_depth=7, min_samples_leaf=7, min_samples_split=3; total time=   4.9s\n",
      "[CV 1/5; 48/64] START max_depth=7, min_samples_leaf=7, min_samples_split=4......\n",
      "[CV 1/5; 48/64] END max_depth=7, min_samples_leaf=7, min_samples_split=4; total time=   4.8s\n",
      "[CV 2/5; 48/64] START max_depth=7, min_samples_leaf=7, min_samples_split=4......\n",
      "[CV 2/5; 48/64] END max_depth=7, min_samples_leaf=7, min_samples_split=4; total time=   4.9s\n",
      "[CV 3/5; 48/64] START max_depth=7, min_samples_leaf=7, min_samples_split=4......\n",
      "[CV 3/5; 48/64] END max_depth=7, min_samples_leaf=7, min_samples_split=4; total time=   4.8s\n",
      "[CV 4/5; 48/64] START max_depth=7, min_samples_leaf=7, min_samples_split=4......\n"
     ]
    },
    {
     "name": "stdout",
     "output_type": "stream",
     "text": [
      "[CV 4/5; 48/64] END max_depth=7, min_samples_leaf=7, min_samples_split=4; total time=   4.9s\n",
      "[CV 5/5; 48/64] START max_depth=7, min_samples_leaf=7, min_samples_split=4......\n",
      "[CV 5/5; 48/64] END max_depth=7, min_samples_leaf=7, min_samples_split=4; total time=   5.4s\n",
      "[CV 1/5; 49/64] START max_depth=8, min_samples_leaf=4, min_samples_split=1......\n",
      "[CV 1/5; 49/64] END max_depth=8, min_samples_leaf=4, min_samples_split=1; total time=   1.6s\n",
      "[CV 2/5; 49/64] START max_depth=8, min_samples_leaf=4, min_samples_split=1......\n",
      "[CV 2/5; 49/64] END max_depth=8, min_samples_leaf=4, min_samples_split=1; total time=   1.2s\n",
      "[CV 3/5; 49/64] START max_depth=8, min_samples_leaf=4, min_samples_split=1......\n",
      "[CV 3/5; 49/64] END max_depth=8, min_samples_leaf=4, min_samples_split=1; total time=   1.1s\n",
      "[CV 4/5; 49/64] START max_depth=8, min_samples_leaf=4, min_samples_split=1......\n",
      "[CV 4/5; 49/64] END max_depth=8, min_samples_leaf=4, min_samples_split=1; total time=   1.3s\n",
      "[CV 5/5; 49/64] START max_depth=8, min_samples_leaf=4, min_samples_split=1......\n",
      "[CV 5/5; 49/64] END max_depth=8, min_samples_leaf=4, min_samples_split=1; total time=   1.1s\n",
      "[CV 1/5; 50/64] START max_depth=8, min_samples_leaf=4, min_samples_split=2......\n",
      "[CV 1/5; 50/64] END max_depth=8, min_samples_leaf=4, min_samples_split=2; total time=   5.6s\n",
      "[CV 2/5; 50/64] START max_depth=8, min_samples_leaf=4, min_samples_split=2......\n",
      "[CV 2/5; 50/64] END max_depth=8, min_samples_leaf=4, min_samples_split=2; total time=   5.9s\n",
      "[CV 3/5; 50/64] START max_depth=8, min_samples_leaf=4, min_samples_split=2......\n",
      "[CV 3/5; 50/64] END max_depth=8, min_samples_leaf=4, min_samples_split=2; total time=   5.9s\n",
      "[CV 4/5; 50/64] START max_depth=8, min_samples_leaf=4, min_samples_split=2......\n",
      "[CV 4/5; 50/64] END max_depth=8, min_samples_leaf=4, min_samples_split=2; total time=   6.2s\n",
      "[CV 5/5; 50/64] START max_depth=8, min_samples_leaf=4, min_samples_split=2......\n",
      "[CV 5/5; 50/64] END max_depth=8, min_samples_leaf=4, min_samples_split=2; total time=   5.5s\n",
      "[CV 1/5; 51/64] START max_depth=8, min_samples_leaf=4, min_samples_split=3......\n",
      "[CV 1/5; 51/64] END max_depth=8, min_samples_leaf=4, min_samples_split=3; total time=   5.3s\n",
      "[CV 2/5; 51/64] START max_depth=8, min_samples_leaf=4, min_samples_split=3......\n",
      "[CV 2/5; 51/64] END max_depth=8, min_samples_leaf=4, min_samples_split=3; total time=   5.7s\n",
      "[CV 3/5; 51/64] START max_depth=8, min_samples_leaf=4, min_samples_split=3......\n",
      "[CV 3/5; 51/64] END max_depth=8, min_samples_leaf=4, min_samples_split=3; total time=   5.8s\n",
      "[CV 4/5; 51/64] START max_depth=8, min_samples_leaf=4, min_samples_split=3......\n",
      "[CV 4/5; 51/64] END max_depth=8, min_samples_leaf=4, min_samples_split=3; total time=   5.8s\n",
      "[CV 5/5; 51/64] START max_depth=8, min_samples_leaf=4, min_samples_split=3......\n",
      "[CV 5/5; 51/64] END max_depth=8, min_samples_leaf=4, min_samples_split=3; total time=   5.7s\n",
      "[CV 1/5; 52/64] START max_depth=8, min_samples_leaf=4, min_samples_split=4......\n",
      "[CV 1/5; 52/64] END max_depth=8, min_samples_leaf=4, min_samples_split=4; total time=   5.2s\n",
      "[CV 2/5; 52/64] START max_depth=8, min_samples_leaf=4, min_samples_split=4......\n",
      "[CV 2/5; 52/64] END max_depth=8, min_samples_leaf=4, min_samples_split=4; total time=   5.3s\n",
      "[CV 3/5; 52/64] START max_depth=8, min_samples_leaf=4, min_samples_split=4......\n",
      "[CV 3/5; 52/64] END max_depth=8, min_samples_leaf=4, min_samples_split=4; total time=   5.3s\n",
      "[CV 4/5; 52/64] START max_depth=8, min_samples_leaf=4, min_samples_split=4......\n",
      "[CV 4/5; 52/64] END max_depth=8, min_samples_leaf=4, min_samples_split=4; total time=   5.4s\n",
      "[CV 5/5; 52/64] START max_depth=8, min_samples_leaf=4, min_samples_split=4......\n",
      "[CV 5/5; 52/64] END max_depth=8, min_samples_leaf=4, min_samples_split=4; total time=   5.4s\n",
      "[CV 1/5; 53/64] START max_depth=8, min_samples_leaf=45, min_samples_split=1.....\n",
      "[CV 1/5; 53/64] END max_depth=8, min_samples_leaf=45, min_samples_split=1; total time=   1.1s\n",
      "[CV 2/5; 53/64] START max_depth=8, min_samples_leaf=45, min_samples_split=1.....\n",
      "[CV 2/5; 53/64] END max_depth=8, min_samples_leaf=45, min_samples_split=1; total time=   1.1s\n",
      "[CV 3/5; 53/64] START max_depth=8, min_samples_leaf=45, min_samples_split=1.....\n",
      "[CV 3/5; 53/64] END max_depth=8, min_samples_leaf=45, min_samples_split=1; total time=   1.1s\n",
      "[CV 4/5; 53/64] START max_depth=8, min_samples_leaf=45, min_samples_split=1.....\n",
      "[CV 4/5; 53/64] END max_depth=8, min_samples_leaf=45, min_samples_split=1; total time=   1.1s\n",
      "[CV 5/5; 53/64] START max_depth=8, min_samples_leaf=45, min_samples_split=1.....\n",
      "[CV 5/5; 53/64] END max_depth=8, min_samples_leaf=45, min_samples_split=1; total time=   1.1s\n",
      "[CV 1/5; 54/64] START max_depth=8, min_samples_leaf=45, min_samples_split=2.....\n",
      "[CV 1/5; 54/64] END max_depth=8, min_samples_leaf=45, min_samples_split=2; total time=   5.2s\n",
      "[CV 2/5; 54/64] START max_depth=8, min_samples_leaf=45, min_samples_split=2.....\n",
      "[CV 2/5; 54/64] END max_depth=8, min_samples_leaf=45, min_samples_split=2; total time=   5.3s\n",
      "[CV 3/5; 54/64] START max_depth=8, min_samples_leaf=45, min_samples_split=2.....\n",
      "[CV 3/5; 54/64] END max_depth=8, min_samples_leaf=45, min_samples_split=2; total time=   5.2s\n",
      "[CV 4/5; 54/64] START max_depth=8, min_samples_leaf=45, min_samples_split=2.....\n",
      "[CV 4/5; 54/64] END max_depth=8, min_samples_leaf=45, min_samples_split=2; total time=   5.3s\n",
      "[CV 5/5; 54/64] START max_depth=8, min_samples_leaf=45, min_samples_split=2.....\n",
      "[CV 5/5; 54/64] END max_depth=8, min_samples_leaf=45, min_samples_split=2; total time=   5.3s\n",
      "[CV 1/5; 55/64] START max_depth=8, min_samples_leaf=45, min_samples_split=3.....\n",
      "[CV 1/5; 55/64] END max_depth=8, min_samples_leaf=45, min_samples_split=3; total time=   5.2s\n",
      "[CV 2/5; 55/64] START max_depth=8, min_samples_leaf=45, min_samples_split=3.....\n",
      "[CV 2/5; 55/64] END max_depth=8, min_samples_leaf=45, min_samples_split=3; total time=   5.3s\n",
      "[CV 3/5; 55/64] START max_depth=8, min_samples_leaf=45, min_samples_split=3.....\n",
      "[CV 3/5; 55/64] END max_depth=8, min_samples_leaf=45, min_samples_split=3; total time=   5.2s\n",
      "[CV 4/5; 55/64] START max_depth=8, min_samples_leaf=45, min_samples_split=3.....\n",
      "[CV 4/5; 55/64] END max_depth=8, min_samples_leaf=45, min_samples_split=3; total time=   5.4s\n",
      "[CV 5/5; 55/64] START max_depth=8, min_samples_leaf=45, min_samples_split=3.....\n",
      "[CV 5/5; 55/64] END max_depth=8, min_samples_leaf=45, min_samples_split=3; total time=   5.3s\n",
      "[CV 1/5; 56/64] START max_depth=8, min_samples_leaf=45, min_samples_split=4.....\n",
      "[CV 1/5; 56/64] END max_depth=8, min_samples_leaf=45, min_samples_split=4; total time=   5.2s\n",
      "[CV 2/5; 56/64] START max_depth=8, min_samples_leaf=45, min_samples_split=4.....\n",
      "[CV 2/5; 56/64] END max_depth=8, min_samples_leaf=45, min_samples_split=4; total time=   5.3s\n",
      "[CV 3/5; 56/64] START max_depth=8, min_samples_leaf=45, min_samples_split=4.....\n",
      "[CV 3/5; 56/64] END max_depth=8, min_samples_leaf=45, min_samples_split=4; total time=   5.2s\n",
      "[CV 4/5; 56/64] START max_depth=8, min_samples_leaf=45, min_samples_split=4.....\n",
      "[CV 4/5; 56/64] END max_depth=8, min_samples_leaf=45, min_samples_split=4; total time=   5.3s\n",
      "[CV 5/5; 56/64] START max_depth=8, min_samples_leaf=45, min_samples_split=4.....\n",
      "[CV 5/5; 56/64] END max_depth=8, min_samples_leaf=45, min_samples_split=4; total time=   5.3s\n",
      "[CV 1/5; 57/64] START max_depth=8, min_samples_leaf=6, min_samples_split=1......\n",
      "[CV 1/5; 57/64] END max_depth=8, min_samples_leaf=6, min_samples_split=1; total time=   1.1s\n",
      "[CV 2/5; 57/64] START max_depth=8, min_samples_leaf=6, min_samples_split=1......\n",
      "[CV 2/5; 57/64] END max_depth=8, min_samples_leaf=6, min_samples_split=1; total time=   1.1s\n",
      "[CV 3/5; 57/64] START max_depth=8, min_samples_leaf=6, min_samples_split=1......\n",
      "[CV 3/5; 57/64] END max_depth=8, min_samples_leaf=6, min_samples_split=1; total time=   1.2s\n",
      "[CV 4/5; 57/64] START max_depth=8, min_samples_leaf=6, min_samples_split=1......\n",
      "[CV 4/5; 57/64] END max_depth=8, min_samples_leaf=6, min_samples_split=1; total time=   1.1s\n",
      "[CV 5/5; 57/64] START max_depth=8, min_samples_leaf=6, min_samples_split=1......\n",
      "[CV 5/5; 57/64] END max_depth=8, min_samples_leaf=6, min_samples_split=1; total time=   1.4s\n",
      "[CV 1/5; 58/64] START max_depth=8, min_samples_leaf=6, min_samples_split=2......\n"
     ]
    },
    {
     "name": "stdout",
     "output_type": "stream",
     "text": [
      "[CV 1/5; 58/64] END max_depth=8, min_samples_leaf=6, min_samples_split=2; total time=   6.0s\n",
      "[CV 2/5; 58/64] START max_depth=8, min_samples_leaf=6, min_samples_split=2......\n",
      "[CV 2/5; 58/64] END max_depth=8, min_samples_leaf=6, min_samples_split=2; total time=   6.2s\n",
      "[CV 3/5; 58/64] START max_depth=8, min_samples_leaf=6, min_samples_split=2......\n",
      "[CV 3/5; 58/64] END max_depth=8, min_samples_leaf=6, min_samples_split=2; total time=   5.8s\n",
      "[CV 4/5; 58/64] START max_depth=8, min_samples_leaf=6, min_samples_split=2......\n",
      "[CV 4/5; 58/64] END max_depth=8, min_samples_leaf=6, min_samples_split=2; total time=   5.6s\n",
      "[CV 5/5; 58/64] START max_depth=8, min_samples_leaf=6, min_samples_split=2......\n",
      "[CV 5/5; 58/64] END max_depth=8, min_samples_leaf=6, min_samples_split=2; total time=   5.5s\n",
      "[CV 1/5; 59/64] START max_depth=8, min_samples_leaf=6, min_samples_split=3......\n",
      "[CV 1/5; 59/64] END max_depth=8, min_samples_leaf=6, min_samples_split=3; total time=   5.3s\n",
      "[CV 2/5; 59/64] START max_depth=8, min_samples_leaf=6, min_samples_split=3......\n",
      "[CV 2/5; 59/64] END max_depth=8, min_samples_leaf=6, min_samples_split=3; total time=   5.3s\n",
      "[CV 3/5; 59/64] START max_depth=8, min_samples_leaf=6, min_samples_split=3......\n",
      "[CV 3/5; 59/64] END max_depth=8, min_samples_leaf=6, min_samples_split=3; total time=   5.3s\n",
      "[CV 4/5; 59/64] START max_depth=8, min_samples_leaf=6, min_samples_split=3......\n",
      "[CV 4/5; 59/64] END max_depth=8, min_samples_leaf=6, min_samples_split=3; total time=   5.4s\n",
      "[CV 5/5; 59/64] START max_depth=8, min_samples_leaf=6, min_samples_split=3......\n",
      "[CV 5/5; 59/64] END max_depth=8, min_samples_leaf=6, min_samples_split=3; total time=   5.4s\n",
      "[CV 1/5; 60/64] START max_depth=8, min_samples_leaf=6, min_samples_split=4......\n",
      "[CV 1/5; 60/64] END max_depth=8, min_samples_leaf=6, min_samples_split=4; total time=   5.2s\n",
      "[CV 2/5; 60/64] START max_depth=8, min_samples_leaf=6, min_samples_split=4......\n",
      "[CV 2/5; 60/64] END max_depth=8, min_samples_leaf=6, min_samples_split=4; total time=   5.4s\n",
      "[CV 3/5; 60/64] START max_depth=8, min_samples_leaf=6, min_samples_split=4......\n",
      "[CV 3/5; 60/64] END max_depth=8, min_samples_leaf=6, min_samples_split=4; total time=   5.3s\n",
      "[CV 4/5; 60/64] START max_depth=8, min_samples_leaf=6, min_samples_split=4......\n",
      "[CV 4/5; 60/64] END max_depth=8, min_samples_leaf=6, min_samples_split=4; total time=   5.5s\n",
      "[CV 5/5; 60/64] START max_depth=8, min_samples_leaf=6, min_samples_split=4......\n",
      "[CV 5/5; 60/64] END max_depth=8, min_samples_leaf=6, min_samples_split=4; total time=   5.4s\n",
      "[CV 1/5; 61/64] START max_depth=8, min_samples_leaf=7, min_samples_split=1......\n",
      "[CV 1/5; 61/64] END max_depth=8, min_samples_leaf=7, min_samples_split=1; total time=   1.1s\n",
      "[CV 2/5; 61/64] START max_depth=8, min_samples_leaf=7, min_samples_split=1......\n",
      "[CV 2/5; 61/64] END max_depth=8, min_samples_leaf=7, min_samples_split=1; total time=   1.1s\n",
      "[CV 3/5; 61/64] START max_depth=8, min_samples_leaf=7, min_samples_split=1......\n",
      "[CV 3/5; 61/64] END max_depth=8, min_samples_leaf=7, min_samples_split=1; total time=   1.1s\n",
      "[CV 4/5; 61/64] START max_depth=8, min_samples_leaf=7, min_samples_split=1......\n",
      "[CV 4/5; 61/64] END max_depth=8, min_samples_leaf=7, min_samples_split=1; total time=   1.1s\n",
      "[CV 5/5; 61/64] START max_depth=8, min_samples_leaf=7, min_samples_split=1......\n",
      "[CV 5/5; 61/64] END max_depth=8, min_samples_leaf=7, min_samples_split=1; total time=   1.1s\n",
      "[CV 1/5; 62/64] START max_depth=8, min_samples_leaf=7, min_samples_split=2......\n",
      "[CV 1/5; 62/64] END max_depth=8, min_samples_leaf=7, min_samples_split=2; total time=   5.2s\n",
      "[CV 2/5; 62/64] START max_depth=8, min_samples_leaf=7, min_samples_split=2......\n",
      "[CV 2/5; 62/64] END max_depth=8, min_samples_leaf=7, min_samples_split=2; total time=   5.3s\n",
      "[CV 3/5; 62/64] START max_depth=8, min_samples_leaf=7, min_samples_split=2......\n",
      "[CV 3/5; 62/64] END max_depth=8, min_samples_leaf=7, min_samples_split=2; total time=   5.3s\n",
      "[CV 4/5; 62/64] START max_depth=8, min_samples_leaf=7, min_samples_split=2......\n",
      "[CV 4/5; 62/64] END max_depth=8, min_samples_leaf=7, min_samples_split=2; total time=   5.4s\n",
      "[CV 5/5; 62/64] START max_depth=8, min_samples_leaf=7, min_samples_split=2......\n",
      "[CV 5/5; 62/64] END max_depth=8, min_samples_leaf=7, min_samples_split=2; total time=   5.5s\n",
      "[CV 1/5; 63/64] START max_depth=8, min_samples_leaf=7, min_samples_split=3......\n",
      "[CV 1/5; 63/64] END max_depth=8, min_samples_leaf=7, min_samples_split=3; total time=   5.2s\n",
      "[CV 2/5; 63/64] START max_depth=8, min_samples_leaf=7, min_samples_split=3......\n",
      "[CV 2/5; 63/64] END max_depth=8, min_samples_leaf=7, min_samples_split=3; total time=   5.4s\n",
      "[CV 3/5; 63/64] START max_depth=8, min_samples_leaf=7, min_samples_split=3......\n",
      "[CV 3/5; 63/64] END max_depth=8, min_samples_leaf=7, min_samples_split=3; total time=   5.4s\n",
      "[CV 4/5; 63/64] START max_depth=8, min_samples_leaf=7, min_samples_split=3......\n",
      "[CV 4/5; 63/64] END max_depth=8, min_samples_leaf=7, min_samples_split=3; total time=   5.4s\n",
      "[CV 5/5; 63/64] START max_depth=8, min_samples_leaf=7, min_samples_split=3......\n",
      "[CV 5/5; 63/64] END max_depth=8, min_samples_leaf=7, min_samples_split=3; total time=   5.4s\n",
      "[CV 1/5; 64/64] START max_depth=8, min_samples_leaf=7, min_samples_split=4......\n",
      "[CV 1/5; 64/64] END max_depth=8, min_samples_leaf=7, min_samples_split=4; total time=   5.2s\n",
      "[CV 2/5; 64/64] START max_depth=8, min_samples_leaf=7, min_samples_split=4......\n",
      "[CV 2/5; 64/64] END max_depth=8, min_samples_leaf=7, min_samples_split=4; total time=   5.4s\n",
      "[CV 3/5; 64/64] START max_depth=8, min_samples_leaf=7, min_samples_split=4......\n",
      "[CV 3/5; 64/64] END max_depth=8, min_samples_leaf=7, min_samples_split=4; total time=   5.3s\n",
      "[CV 4/5; 64/64] START max_depth=8, min_samples_leaf=7, min_samples_split=4......\n",
      "[CV 4/5; 64/64] END max_depth=8, min_samples_leaf=7, min_samples_split=4; total time=   5.4s\n",
      "[CV 5/5; 64/64] START max_depth=8, min_samples_leaf=7, min_samples_split=4......\n",
      "[CV 5/5; 64/64] END max_depth=8, min_samples_leaf=7, min_samples_split=4; total time=   5.4s\n"
     ]
    },
    {
     "data": {
      "text/plain": [
       "GridSearchCV(cv=5, estimator=DecisionTreeClassifier(),\n",
       "             param_grid={'max_depth': [5, 6, 7, 8],\n",
       "                         'min_samples_leaf': [4, 45, 6, 7],\n",
       "                         'min_samples_split': [1, 2, 3, 4]},\n",
       "             verbose=22)"
      ]
     },
     "execution_count": 31,
     "metadata": {},
     "output_type": "execute_result"
    }
   ],
   "source": [
    "gd.fit(x_train_final,y_train)"
   ]
  },
  {
   "cell_type": "code",
   "execution_count": 32,
   "id": "6dcbbc4a",
   "metadata": {},
   "outputs": [
    {
     "data": {
      "text/plain": [
       "{'max_depth': 7, 'min_samples_leaf': 4, 'min_samples_split': 3}"
      ]
     },
     "execution_count": 32,
     "metadata": {},
     "output_type": "execute_result"
    }
   ],
   "source": [
    "gd.best_params_"
   ]
  },
  {
   "cell_type": "code",
   "execution_count": 33,
   "id": "befa8139",
   "metadata": {},
   "outputs": [],
   "source": [
    "gv_test_pred=gd.predict(x_test_final)"
   ]
  },
  {
   "cell_type": "code",
   "execution_count": 34,
   "id": "28ad0696",
   "metadata": {},
   "outputs": [
    {
     "data": {
      "text/plain": [
       "array([[3124, 2545],\n",
       "       [1899, 3784]], dtype=int64)"
      ]
     },
     "execution_count": 34,
     "metadata": {},
     "output_type": "execute_result"
    }
   ],
   "source": [
    "confusion_matrix(y_test,gv_test_pred)\n",
    "#precision_score(y_test,y_test_pred)"
   ]
  },
  {
   "cell_type": "code",
   "execution_count": 35,
   "id": "3be097f6",
   "metadata": {},
   "outputs": [
    {
     "data": {
      "text/plain": [
       "0.597882761889714"
      ]
     },
     "execution_count": 35,
     "metadata": {},
     "output_type": "execute_result"
    }
   ],
   "source": [
    "precision_score(y_test,gv_test_pred)"
   ]
  },
  {
   "cell_type": "code",
   "execution_count": 36,
   "id": "57d35d95",
   "metadata": {},
   "outputs": [
    {
     "data": {
      "text/plain": [
       "0.63003663003663"
      ]
     },
     "execution_count": 36,
     "metadata": {},
     "output_type": "execute_result"
    }
   ],
   "source": [
    "f1_score(y_test,gv_test_pred)"
   ]
  },
  {
   "cell_type": "code",
   "execution_count": 37,
   "id": "4145ed0a",
   "metadata": {},
   "outputs": [],
   "source": [
    "rdcv=RandomizedSearchCV(dt,dt_dict,cv=5,n_iter=15)"
   ]
  },
  {
   "cell_type": "code",
   "execution_count": 38,
   "id": "7a8ba891",
   "metadata": {},
   "outputs": [
    {
     "data": {
      "text/plain": [
       "RandomizedSearchCV(cv=5, estimator=DecisionTreeClassifier(), n_iter=15,\n",
       "                   param_distributions={'max_depth': [5, 6, 7, 8],\n",
       "                                        'min_samples_leaf': [4, 45, 6, 7],\n",
       "                                        'min_samples_split': [1, 2, 3, 4]})"
      ]
     },
     "execution_count": 38,
     "metadata": {},
     "output_type": "execute_result"
    }
   ],
   "source": [
    "rdcv.fit(x_train_final,y_train)"
   ]
  },
  {
   "cell_type": "code",
   "execution_count": 39,
   "id": "cb9d15bc",
   "metadata": {},
   "outputs": [],
   "source": [
    "rdcv_test_pred=rdcv.predict(x_test_final)"
   ]
  },
  {
   "cell_type": "code",
   "execution_count": 40,
   "id": "379d80ad",
   "metadata": {},
   "outputs": [
    {
     "data": {
      "text/plain": [
       "array([[3124, 2545],\n",
       "       [1902, 3781]], dtype=int64)"
      ]
     },
     "execution_count": 40,
     "metadata": {},
     "output_type": "execute_result"
    }
   ],
   "source": [
    "confusion_matrix(y_test,rdcv_test_pred)"
   ]
  },
  {
   "cell_type": "code",
   "execution_count": 41,
   "id": "cb803f45",
   "metadata": {},
   "outputs": [
    {
     "data": {
      "text/plain": [
       "0.5976920644957319"
      ]
     },
     "execution_count": 41,
     "metadata": {},
     "output_type": "execute_result"
    }
   ],
   "source": [
    "precision_score(y_test,rdcv_test_pred)"
   ]
  },
  {
   "cell_type": "code",
   "execution_count": 42,
   "id": "149d91a1",
   "metadata": {},
   "outputs": [
    {
     "data": {
      "text/plain": [
       "0.6296943958697644"
      ]
     },
     "execution_count": 42,
     "metadata": {},
     "output_type": "execute_result"
    }
   ],
   "source": [
    "f1_score(y_test,rdcv_test_pred)"
   ]
  },
  {
   "cell_type": "code",
   "execution_count": 11,
   "id": "2ae3596e",
   "metadata": {},
   "outputs": [
    {
     "data": {
      "text/plain": [
       "GradientBoostingClassifier()"
      ]
     },
     "execution_count": 11,
     "metadata": {},
     "output_type": "execute_result"
    }
   ],
   "source": [
    "gbc=GradientBoostingClassifier()\n",
    "gbc.fit(x_train_final,y_train)"
   ]
  },
  {
   "cell_type": "code",
   "execution_count": 12,
   "id": "cb6ce02b",
   "metadata": {},
   "outputs": [],
   "source": [
    "gbc_test_pred=gbc.predict(x_test_final)"
   ]
  },
  {
   "cell_type": "code",
   "execution_count": 13,
   "id": "c7f59baf",
   "metadata": {},
   "outputs": [
    {
     "data": {
      "text/plain": [
       "array([[3585, 2084],\n",
       "       [2074, 3609]], dtype=int64)"
      ]
     },
     "execution_count": 13,
     "metadata": {},
     "output_type": "execute_result"
    }
   ],
   "source": [
    "confusion_matrix(y_test,gbc_test_pred)"
   ]
  },
  {
   "cell_type": "code",
   "execution_count": 14,
   "id": "7ecbf672",
   "metadata": {},
   "outputs": [
    {
     "data": {
      "text/plain": [
       "0.6339364131389426"
      ]
     },
     "execution_count": 14,
     "metadata": {},
     "output_type": "execute_result"
    }
   ],
   "source": [
    "precision_score(y_test,gbc_test_pred)"
   ]
  },
  {
   "cell_type": "code",
   "execution_count": 15,
   "id": "71a69d46",
   "metadata": {},
   "outputs": [
    {
     "data": {
      "text/plain": [
       "0.6344936708860759"
      ]
     },
     "execution_count": 15,
     "metadata": {},
     "output_type": "execute_result"
    }
   ],
   "source": [
    "f1_score(y_test,gbc_test_pred)"
   ]
  },
  {
   "cell_type": "code",
   "execution_count": null,
   "id": "7199ea78",
   "metadata": {},
   "outputs": [],
   "source": [
    "sv=SVC()\n",
    "sv.fit(x_train_final,y_train)"
   ]
  },
  {
   "cell_type": "code",
   "execution_count": null,
   "id": "0e5ff8b3",
   "metadata": {},
   "outputs": [],
   "source": [
    "sv_test_pred=sv.predict(x_test_final)"
   ]
  },
  {
   "cell_type": "code",
   "execution_count": null,
   "id": "89796f04",
   "metadata": {},
   "outputs": [],
   "source": [
    "confusion_matrix(y_test,sv_test_pred)"
   ]
  }
 ],
 "metadata": {
  "kernelspec": {
   "display_name": "Python 3",
   "language": "python",
   "name": "python3"
  },
  "language_info": {
   "codemirror_mode": {
    "name": "ipython",
    "version": 3
   },
   "file_extension": ".py",
   "mimetype": "text/x-python",
   "name": "python",
   "nbconvert_exporter": "python",
   "pygments_lexer": "ipython3",
   "version": "3.8.8"
  }
 },
 "nbformat": 4,
 "nbformat_minor": 5
}

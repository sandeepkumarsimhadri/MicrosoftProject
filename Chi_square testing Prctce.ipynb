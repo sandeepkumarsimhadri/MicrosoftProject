{
 "cells": [
  {
   "cell_type": "code",
   "execution_count": 1,
   "id": "eae0e8b7",
   "metadata": {},
   "outputs": [],
   "source": [
    "import pandas as pd\n",
    "ms_df=pd.read_csv('Microsoft_Data.csv')\n",
    "#ms_df.shape\n",
    "#ms_df.columns\n",
    "contigency_table=pd.crosstab(ms_df['OsBuild'],ms_df['HasDetections'])"
   ]
  },
  {
   "cell_type": "code",
   "execution_count": 6,
   "id": "275451b7",
   "metadata": {},
   "outputs": [
    {
     "data": {
      "text/plain": [
       "1.434114178500418e-17"
      ]
     },
     "execution_count": 6,
     "metadata": {},
     "output_type": "execute_result"
    }
   ],
   "source": [
    "from scipy.stats import chi2_contingency\n",
    "chi2_contingency(contigency_table)[1]"
   ]
  },
  {
   "cell_type": "code",
   "execution_count": 3,
   "id": "43b2edb8",
   "metadata": {},
   "outputs": [
    {
     "data": {
      "text/plain": [
       "['IsBeta',\n",
       " 'IsSxsPassiveMode',\n",
       " 'HasTpm',\n",
       " 'CountryIdentifier',\n",
       " 'LocaleEnglishNameIdentifier',\n",
       " 'OsBuild',\n",
       " 'OsSuite',\n",
       " 'AutoSampleOptIn',\n",
       " 'Census_HasOpticalDiskDrive',\n",
       " 'Census_OSBuildNumber',\n",
       " 'Census_OSBuildRevision',\n",
       " 'Census_OSUILocaleIdentifier',\n",
       " 'Census_IsPortableOperatingSystem',\n",
       " 'Census_IsSecureBootEnabled',\n",
       " 'Census_IsTouchEnabled',\n",
       " 'Census_IsPenCapable',\n",
       " 'HasDetections']"
      ]
     },
     "execution_count": 3,
     "metadata": {},
     "output_type": "execute_result"
    }
   ],
   "source": [
    "[col for col in ms_df.columns if ms_df[col].dtype=='int64']"
   ]
  },
  {
   "cell_type": "code",
   "execution_count": 4,
   "id": "1ce3f8e0",
   "metadata": {},
   "outputs": [
    {
     "data": {
      "text/plain": [
       "(2972.6349912604146,\n",
       " 5.182204928793686e-132,\n",
       " 1302,\n",
       " array([[5.28578476e-04, 1.30735076e-02, 1.40954260e-03, ...,\n",
       "         1.74783283e-02, 2.46669956e-03, 2.99527803e-03],\n",
       "        [5.65658256e+00, 1.39906142e+02, 1.50842202e+01, ...,\n",
       "         1.87044330e+02, 2.63973853e+01, 3.20539679e+01],\n",
       "        [1.85002467e-02, 4.57572768e-01, 4.93339911e-02, ...,\n",
       "         6.11741490e-01, 8.63344845e-02, 1.04834731e-01],\n",
       "        ...,\n",
       "        [1.05715695e-03, 2.61470153e-02, 2.81908521e-03, ...,\n",
       "         3.49566566e-02, 4.93339911e-03, 5.99055606e-03],\n",
       "        [9.32253859e+00, 2.30577454e+02, 2.48601029e+01, ...,\n",
       "         3.08265276e+02, 4.35051801e+01, 5.28277187e+01],\n",
       "        [2.64289238e-04, 6.53675382e-03, 7.04771302e-04, ...,\n",
       "         8.73916414e-03, 1.23334978e-03, 1.49763902e-03]]))"
      ]
     },
     "execution_count": 4,
     "metadata": {},
     "output_type": "execute_result"
    }
   ],
   "source": [
    "obs_table=pd.crosstab(ms_df['OsSuite'],ms_df['CountryIdentifier'])\n",
    "chi2_contingency(obs_table)"
   ]
  }
 ],
 "metadata": {
  "kernelspec": {
   "display_name": "Python 3",
   "language": "python",
   "name": "python3"
  },
  "language_info": {
   "codemirror_mode": {
    "name": "ipython",
    "version": 3
   },
   "file_extension": ".py",
   "mimetype": "text/x-python",
   "name": "python",
   "nbconvert_exporter": "python",
   "pygments_lexer": "ipython3",
   "version": "3.8.8"
  }
 },
 "nbformat": 4,
 "nbformat_minor": 5
}
